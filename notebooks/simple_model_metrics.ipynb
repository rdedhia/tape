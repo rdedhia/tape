{
 "cells": [
  {
   "cell_type": "code",
   "execution_count": 2,
   "metadata": {},
   "outputs": [],
   "source": [
    "from Bio import SeqIO\n",
    "import pandas as pd\n",
    "import torch\n",
    "from tape import ProteinBertModel, TAPETokenizer\n",
    "from Bio.Alphabet import IUPAC\n",
    "from Bio.SeqRecord import SeqRecord\n",
    "from Bio.Seq import Seq\n",
    "import torch\n",
    "from tape import ProteinBertModel, TAPETokenizer\n",
    "\n",
    "import numpy as np\n",
    "import pandas as pd\n",
    "import json\n",
    "\n",
    "from sklearn.linear_model import LogisticRegression\n",
    "import keras\n",
    "from keras.models import Sequential\n",
    "from keras.layers import Dense, Activation\n",
    "from keras.utils import to_categorical"
   ]
  },
  {
   "cell_type": "markdown",
   "metadata": {},
   "source": [
    "### Data Loading"
   ]
  },
  {
   "cell_type": "code",
   "execution_count": 7,
   "metadata": {},
   "outputs": [],
   "source": [
    "model = ProteinBertModel.from_pretrained('bert-base')\n",
    "tokenizer = TAPETokenizer(vocab='iupac')\n",
    "\n",
    "lookup_d = {}\n",
    "seq_list = []\n",
    "count = 0\n",
    "for record in SeqIO.parse(\"data/deeploc_data_1024.fasta\", \"fasta\"):\n",
    "    description = record.description\n",
    "    seq = record.seq\n",
    "    seq_list.append(len(str(seq)))\n",
    "    count += 1\n",
    "    desc_split = description.split(\" \")\n",
    "    if len(desc_split) == 3:\n",
    "        ID = desc_split[0]\n",
    "        label = desc_split[1]\n",
    "        label = label[:len(label)-2]\n",
    "        if label == \"Cytoplasm-Nucleus\":\n",
    "            label = \"Cytplasm\"\n",
    "        lookup_d[ID] = label\n",
    "    \n",
    "    else:\n",
    "        ID = desc_split[0]\n",
    "        label = desc_split[1]\n",
    "        label = label[:len(label)-2]\n",
    "        if label == \"Cytoplasm-Nucleus\":\n",
    "            label = \"Cytoplasm\"\n",
    "        lookup_d[ID] = label"
   ]
  },
  {
   "cell_type": "code",
   "execution_count": 8,
   "metadata": {},
   "outputs": [
    {
     "data": {
      "text/html": [
       "<div>\n",
       "<style scoped>\n",
       "    .dataframe tbody tr th:only-of-type {\n",
       "        vertical-align: middle;\n",
       "    }\n",
       "\n",
       "    .dataframe tbody tr th {\n",
       "        vertical-align: top;\n",
       "    }\n",
       "\n",
       "    .dataframe thead th {\n",
       "        text-align: right;\n",
       "    }\n",
       "</style>\n",
       "<table border=\"1\" class=\"dataframe\">\n",
       "  <thead>\n",
       "    <tr style=\"text-align: right;\">\n",
       "      <th></th>\n",
       "      <th>0</th>\n",
       "    </tr>\n",
       "  </thead>\n",
       "  <tbody>\n",
       "    <tr>\n",
       "      <th>count</th>\n",
       "      <td>12704.000000</td>\n",
       "    </tr>\n",
       "    <tr>\n",
       "      <th>mean</th>\n",
       "      <td>418.507793</td>\n",
       "    </tr>\n",
       "    <tr>\n",
       "      <th>std</th>\n",
       "      <td>234.958061</td>\n",
       "    </tr>\n",
       "    <tr>\n",
       "      <th>min</th>\n",
       "      <td>40.000000</td>\n",
       "    </tr>\n",
       "    <tr>\n",
       "      <th>50%</th>\n",
       "      <td>389.000000</td>\n",
       "    </tr>\n",
       "    <tr>\n",
       "      <th>91%</th>\n",
       "      <td>781.000000</td>\n",
       "    </tr>\n",
       "    <tr>\n",
       "      <th>95%</th>\n",
       "      <td>873.000000</td>\n",
       "    </tr>\n",
       "    <tr>\n",
       "      <th>99%</th>\n",
       "      <td>988.970000</td>\n",
       "    </tr>\n",
       "    <tr>\n",
       "      <th>max</th>\n",
       "      <td>1024.000000</td>\n",
       "    </tr>\n",
       "  </tbody>\n",
       "</table>\n",
       "</div>"
      ],
      "text/plain": [
       "                  0\n",
       "count  12704.000000\n",
       "mean     418.507793\n",
       "std      234.958061\n",
       "min       40.000000\n",
       "50%      389.000000\n",
       "91%      781.000000\n",
       "95%      873.000000\n",
       "99%      988.970000\n",
       "max     1024.000000"
      ]
     },
     "execution_count": 8,
     "metadata": {},
     "output_type": "execute_result"
    }
   ],
   "source": [
    "seq_df = pd.DataFrame(seq_list)\n",
    "seq_df.describe(percentiles=[.91, .95, .99])"
   ]
  },
  {
   "cell_type": "code",
   "execution_count": 9,
   "metadata": {},
   "outputs": [],
   "source": [
    "train_arrays = np.load('data/output_deeploc_train.npz', allow_pickle=True)\n",
    "valid_arrays = np.load('data/output_deeploc_valid.npz', allow_pickle=True)\n",
    "test_arrays = np.load('data/output_deeploc_test.npz', allow_pickle=True)"
   ]
  },
  {
   "cell_type": "code",
   "execution_count": 10,
   "metadata": {},
   "outputs": [],
   "source": [
    "id_dict = {'Cell.membrane': 0, \n",
    " 'Cytoplasm': 1, \n",
    " 'Endoplasmic.reticulum': 2, \n",
    " 'Golgi.apparatus': 3, \n",
    " 'Lysosome/Vacuole': 4,\n",
    " 'Mitochondrion': 5, \n",
    " 'Nucleus': 6,\n",
    " 'Peroxisome': 7, \n",
    " 'Plastid': 8,\n",
    " 'Extracellular': 9}\n",
    "\n",
    "\n",
    "def gen_df(df, label_list, arrays):\n",
    "    l = list(arrays.keys())\n",
    "    labels = []\n",
    "    for a in l:\n",
    "        d = arrays[a].item()['avg']\n",
    "        append_df = pd.DataFrame(d)\n",
    "        labels.append(lookup_d[a])\n",
    "        df = df.append(append_df.transpose(), ignore_index=True)\n",
    "    return df, labels\n",
    "\n",
    "train_df, train_labels = gen_df(pd.DataFrame(), [], train_arrays)\n",
    "valid_df, valid_labels = gen_df(pd.DataFrame(), [], valid_arrays)\n",
    "test_df, test_labels = gen_df(pd.DataFrame(), [], test_arrays)"
   ]
  },
  {
   "cell_type": "code",
   "execution_count": 110,
   "metadata": {},
   "outputs": [
    {
     "data": {
      "text/plain": [
       "Nucleus                  675\n",
       "Cytoplasm                424\n",
       "Extracellular            377\n",
       "Mitochondrion            299\n",
       "Cell.membrane            224\n",
       "Endoplasmic.reticulum    162\n",
       "Plastid                  147\n",
       "Golgi.apparatus           63\n",
       "Lysosome/Vacuole          57\n",
       "Peroxisome                28\n",
       "dtype: int64"
      ]
     },
     "execution_count": 110,
     "metadata": {},
     "output_type": "execute_result"
    }
   ],
   "source": [
    "pd.Series(test_labels).value_counts()"
   ]
  },
  {
   "cell_type": "code",
   "execution_count": 129,
   "metadata": {},
   "outputs": [
    {
     "data": {
      "text/plain": [
       "2456"
      ]
     },
     "execution_count": 129,
     "metadata": {},
     "output_type": "execute_result"
    }
   ],
   "source": [
    "len(test_labels)"
   ]
  },
  {
   "cell_type": "code",
   "execution_count": 79,
   "metadata": {},
   "outputs": [],
   "source": [
    "reverse_id_dict = {value: key for key, value in id_dict.items()}"
   ]
  },
  {
   "cell_type": "markdown",
   "metadata": {},
   "source": [
    "### Logistic Regression"
   ]
  },
  {
   "cell_type": "code",
   "execution_count": 11,
   "metadata": {},
   "outputs": [],
   "source": [
    "train_valid_df = train_df.append(valid_df, ignore_index=True)\n",
    "train_valid_labels = train_labels + valid_labels"
   ]
  },
  {
   "cell_type": "code",
   "execution_count": 12,
   "metadata": {},
   "outputs": [
    {
     "data": {
      "text/plain": [
       "(10222, 768)"
      ]
     },
     "execution_count": 12,
     "metadata": {},
     "output_type": "execute_result"
    }
   ],
   "source": [
    "train_valid_df.shape"
   ]
  },
  {
   "cell_type": "code",
   "execution_count": 13,
   "metadata": {},
   "outputs": [
    {
     "name": "stderr",
     "output_type": "stream",
     "text": [
      "/Library/Frameworks/Python.framework/Versions/3.6/lib/python3.6/site-packages/sklearn/linear_model/logistic.py:433: FutureWarning: Default solver will be changed to 'lbfgs' in 0.22. Specify a solver to silence this warning.\n",
      "  FutureWarning)\n",
      "/Library/Frameworks/Python.framework/Versions/3.6/lib/python3.6/site-packages/sklearn/linear_model/logistic.py:460: FutureWarning: Default multi_class will be changed to 'auto' in 0.22. Specify the multi_class option to silence this warning.\n",
      "  \"this warning.\", FutureWarning)\n"
     ]
    },
    {
     "data": {
      "text/plain": [
       "LogisticRegression(C=1.0, class_weight=None, dual=False, fit_intercept=True,\n",
       "          intercept_scaling=1, max_iter=100, multi_class='warn',\n",
       "          n_jobs=None, penalty='l2', random_state=42, solver='warn',\n",
       "          tol=0.0001, verbose=0, warm_start=False)"
      ]
     },
     "execution_count": 13,
     "metadata": {},
     "output_type": "execute_result"
    }
   ],
   "source": [
    "clf = LogisticRegression(random_state=42)\n",
    "clf.fit(train_valid_df, train_valid_labels)"
   ]
  },
  {
   "cell_type": "code",
   "execution_count": 14,
   "metadata": {},
   "outputs": [
    {
     "data": {
      "text/plain": [
       "0.8007239287810605"
      ]
     },
     "execution_count": 14,
     "metadata": {},
     "output_type": "execute_result"
    }
   ],
   "source": [
    "clf.score(train_valid_df, train_valid_labels)"
   ]
  },
  {
   "cell_type": "code",
   "execution_count": 15,
   "metadata": {},
   "outputs": [
    {
     "data": {
      "text/plain": [
       "0.6632736156351792"
      ]
     },
     "execution_count": 15,
     "metadata": {},
     "output_type": "execute_result"
    }
   ],
   "source": [
    "clf.score(test_df, test_labels)"
   ]
  },
  {
   "cell_type": "code",
   "execution_count": 48,
   "metadata": {},
   "outputs": [],
   "source": [
    "logreg_test_preds = clf.predict(test_df)"
   ]
  },
  {
   "cell_type": "markdown",
   "metadata": {},
   "source": [
    "### Keras DNN"
   ]
  },
  {
   "cell_type": "code",
   "execution_count": 28,
   "metadata": {},
   "outputs": [],
   "source": [
    "from keras.callbacks import EarlyStopping"
   ]
  },
  {
   "cell_type": "code",
   "execution_count": 16,
   "metadata": {},
   "outputs": [],
   "source": [
    "train_lab = [id_dict[label] for label in train_labels]\n",
    "valid_lab = [id_dict[label] for label in valid_labels]\n",
    "test_lab = [id_dict[label] for label in test_labels]"
   ]
  },
  {
   "cell_type": "code",
   "execution_count": 91,
   "metadata": {},
   "outputs": [],
   "source": [
    "model = Sequential()\n",
    "model.add(Dense(32, input_dim=768, activation='softmax'))\n",
    "# model.add(Dense(32, activation='softmax'))\n",
    "model.add(Dense(10, activation='softmax'))\n",
    "model.compile(optimizer='adam',\n",
    "              loss='categorical_crossentropy',\n",
    "              metrics=['accuracy'])"
   ]
  },
  {
   "cell_type": "code",
   "execution_count": 92,
   "metadata": {},
   "outputs": [],
   "source": [
    "keras_callbacks   = [\n",
    "      EarlyStopping(monitor='val_loss', patience=30, mode='min', min_delta=0.0001)\n",
    "]"
   ]
  },
  {
   "cell_type": "code",
   "execution_count": 93,
   "metadata": {},
   "outputs": [
    {
     "name": "stdout",
     "output_type": "stream",
     "text": [
      "Train on 9220 samples, validate on 1002 samples\n",
      "Epoch 1/500\n",
      "9220/9220 [==============================] - 1s 75us/step - loss: 2.0490 - acc: 0.4076 - val_loss: 1.9208 - val_acc: 0.4501\n",
      "Epoch 2/500\n",
      "9220/9220 [==============================] - 0s 37us/step - loss: 1.8569 - acc: 0.4626 - val_loss: 1.7862 - val_acc: 0.4591\n",
      "Epoch 3/500\n",
      "9220/9220 [==============================] - 0s 36us/step - loss: 1.7345 - acc: 0.4863 - val_loss: 1.6687 - val_acc: 0.4990\n",
      "Epoch 4/500\n",
      "9220/9220 [==============================] - 0s 41us/step - loss: 1.6261 - acc: 0.5076 - val_loss: 1.5708 - val_acc: 0.5200\n",
      "Epoch 5/500\n",
      "9220/9220 [==============================] - 0s 38us/step - loss: 1.5392 - acc: 0.5187 - val_loss: 1.4994 - val_acc: 0.5389\n",
      "Epoch 6/500\n",
      "9220/9220 [==============================] - 0s 34us/step - loss: 1.4693 - acc: 0.5399 - val_loss: 1.4402 - val_acc: 0.5409\n",
      "Epoch 7/500\n",
      "9220/9220 [==============================] - 0s 36us/step - loss: 1.4139 - acc: 0.5511 - val_loss: 1.3923 - val_acc: 0.5469\n",
      "Epoch 8/500\n",
      "9220/9220 [==============================] - 0s 33us/step - loss: 1.3731 - acc: 0.5550 - val_loss: 1.3556 - val_acc: 0.5489\n",
      "Epoch 9/500\n",
      "9220/9220 [==============================] - 0s 36us/step - loss: 1.3352 - acc: 0.5615 - val_loss: 1.3282 - val_acc: 0.5449\n",
      "Epoch 10/500\n",
      "9220/9220 [==============================] - 0s 36us/step - loss: 1.3066 - acc: 0.5653 - val_loss: 1.2969 - val_acc: 0.5489\n",
      "Epoch 11/500\n",
      "9220/9220 [==============================] - 0s 36us/step - loss: 1.2822 - acc: 0.5651 - val_loss: 1.2851 - val_acc: 0.5459\n",
      "Epoch 12/500\n",
      "9220/9220 [==============================] - 0s 38us/step - loss: 1.2614 - acc: 0.5700 - val_loss: 1.2659 - val_acc: 0.5509\n",
      "Epoch 13/500\n",
      "9220/9220 [==============================] - 0s 44us/step - loss: 1.2465 - acc: 0.5694 - val_loss: 1.2419 - val_acc: 0.5569\n",
      "Epoch 14/500\n",
      "9220/9220 [==============================] - 0s 36us/step - loss: 1.2235 - acc: 0.5792 - val_loss: 1.2317 - val_acc: 0.5589\n",
      "Epoch 15/500\n",
      "9220/9220 [==============================] - 0s 37us/step - loss: 1.2073 - acc: 0.5816 - val_loss: 1.2215 - val_acc: 0.5629\n",
      "Epoch 16/500\n",
      "9220/9220 [==============================] - 0s 35us/step - loss: 1.1897 - acc: 0.5907 - val_loss: 1.2040 - val_acc: 0.5619\n",
      "Epoch 17/500\n",
      "9220/9220 [==============================] - 0s 33us/step - loss: 1.1738 - acc: 0.5962 - val_loss: 1.1900 - val_acc: 0.5778\n",
      "Epoch 18/500\n",
      "9220/9220 [==============================] - 0s 39us/step - loss: 1.1566 - acc: 0.6049 - val_loss: 1.1831 - val_acc: 0.5758\n",
      "Epoch 19/500\n",
      "9220/9220 [==============================] - 0s 36us/step - loss: 1.1459 - acc: 0.6017 - val_loss: 1.1775 - val_acc: 0.5758\n",
      "Epoch 20/500\n",
      "9220/9220 [==============================] - 0s 36us/step - loss: 1.1330 - acc: 0.6052 - val_loss: 1.1689 - val_acc: 0.5808\n",
      "Epoch 21/500\n",
      "9220/9220 [==============================] - 0s 36us/step - loss: 1.1218 - acc: 0.6107 - val_loss: 1.1648 - val_acc: 0.5888\n",
      "Epoch 22/500\n",
      "9220/9220 [==============================] - 0s 34us/step - loss: 1.1135 - acc: 0.6152 - val_loss: 1.1694 - val_acc: 0.5689\n",
      "Epoch 23/500\n",
      "9220/9220 [==============================] - 0s 34us/step - loss: 1.1054 - acc: 0.6136 - val_loss: 1.1527 - val_acc: 0.5898\n",
      "Epoch 24/500\n",
      "9220/9220 [==============================] - 0s 38us/step - loss: 1.0967 - acc: 0.6141 - val_loss: 1.1645 - val_acc: 0.5828\n",
      "Epoch 25/500\n",
      "9220/9220 [==============================] - 0s 39us/step - loss: 1.0876 - acc: 0.6196 - val_loss: 1.1458 - val_acc: 0.5888\n",
      "Epoch 26/500\n",
      "9220/9220 [==============================] - 0s 35us/step - loss: 1.0779 - acc: 0.6225 - val_loss: 1.1364 - val_acc: 0.5988\n",
      "Epoch 27/500\n",
      "9220/9220 [==============================] - 0s 34us/step - loss: 1.0702 - acc: 0.6256 - val_loss: 1.1392 - val_acc: 0.5868\n",
      "Epoch 28/500\n",
      "9220/9220 [==============================] - 0s 35us/step - loss: 1.0702 - acc: 0.6232 - val_loss: 1.1371 - val_acc: 0.5918\n",
      "Epoch 29/500\n",
      "9220/9220 [==============================] - 0s 33us/step - loss: 1.0599 - acc: 0.6240 - val_loss: 1.1276 - val_acc: 0.5888\n",
      "Epoch 30/500\n",
      "9220/9220 [==============================] - 0s 35us/step - loss: 1.0499 - acc: 0.6287 - val_loss: 1.1271 - val_acc: 0.5948\n",
      "Epoch 31/500\n",
      "9220/9220 [==============================] - 0s 37us/step - loss: 1.0468 - acc: 0.6286 - val_loss: 1.1149 - val_acc: 0.6058\n",
      "Epoch 32/500\n",
      "9220/9220 [==============================] - 0s 40us/step - loss: 1.0422 - acc: 0.6304 - val_loss: 1.1245 - val_acc: 0.5928\n",
      "Epoch 33/500\n",
      "9220/9220 [==============================] - 0s 39us/step - loss: 1.0334 - acc: 0.6347 - val_loss: 1.1078 - val_acc: 0.6028\n",
      "Epoch 34/500\n",
      "9220/9220 [==============================] - 0s 36us/step - loss: 1.0351 - acc: 0.6326 - val_loss: 1.1094 - val_acc: 0.6028\n",
      "Epoch 35/500\n",
      "9220/9220 [==============================] - 0s 35us/step - loss: 1.0248 - acc: 0.6369 - val_loss: 1.1054 - val_acc: 0.6008\n",
      "Epoch 36/500\n",
      "9220/9220 [==============================] - 0s 45us/step - loss: 1.0210 - acc: 0.6376 - val_loss: 1.1102 - val_acc: 0.6028\n",
      "Epoch 37/500\n",
      "9220/9220 [==============================] - 0s 34us/step - loss: 1.0167 - acc: 0.6380 - val_loss: 1.1016 - val_acc: 0.6038\n",
      "Epoch 38/500\n",
      "9220/9220 [==============================] - 0s 37us/step - loss: 1.0131 - acc: 0.6392 - val_loss: 1.1171 - val_acc: 0.5868\n",
      "Epoch 39/500\n",
      "9220/9220 [==============================] - 0s 41us/step - loss: 1.0097 - acc: 0.6421 - val_loss: 1.1130 - val_acc: 0.5978\n",
      "Epoch 40/500\n",
      "9220/9220 [==============================] - 0s 33us/step - loss: 1.0075 - acc: 0.6414 - val_loss: 1.1244 - val_acc: 0.5948\n",
      "Epoch 41/500\n",
      "9220/9220 [==============================] - 0s 34us/step - loss: 1.0042 - acc: 0.6439 - val_loss: 1.1068 - val_acc: 0.6008\n",
      "Epoch 42/500\n",
      "9220/9220 [==============================] - 0s 43us/step - loss: 1.0005 - acc: 0.6444 - val_loss: 1.1076 - val_acc: 0.5888\n",
      "Epoch 43/500\n",
      "9220/9220 [==============================] - 0s 33us/step - loss: 0.9977 - acc: 0.6463 - val_loss: 1.1014 - val_acc: 0.6028\n",
      "Epoch 44/500\n",
      "9220/9220 [==============================] - 0s 31us/step - loss: 0.9967 - acc: 0.6462 - val_loss: 1.0972 - val_acc: 0.6028\n",
      "Epoch 45/500\n",
      "9220/9220 [==============================] - 0s 36us/step - loss: 0.9914 - acc: 0.6508 - val_loss: 1.0938 - val_acc: 0.6088\n",
      "Epoch 46/500\n",
      "9220/9220 [==============================] - 0s 32us/step - loss: 0.9904 - acc: 0.6465 - val_loss: 1.0936 - val_acc: 0.6078\n",
      "Epoch 47/500\n",
      "9220/9220 [==============================] - 0s 33us/step - loss: 0.9842 - acc: 0.6515 - val_loss: 1.0931 - val_acc: 0.6078\n",
      "Epoch 48/500\n",
      "9220/9220 [==============================] - 0s 42us/step - loss: 0.9876 - acc: 0.6487 - val_loss: 1.0969 - val_acc: 0.6158\n",
      "Epoch 49/500\n",
      "9220/9220 [==============================] - 0s 32us/step - loss: 0.9796 - acc: 0.6517 - val_loss: 1.1013 - val_acc: 0.5968\n",
      "Epoch 50/500\n",
      "9220/9220 [==============================] - 0s 34us/step - loss: 0.9831 - acc: 0.6509 - val_loss: 1.1078 - val_acc: 0.6058\n",
      "Epoch 51/500\n",
      "9220/9220 [==============================] - 0s 31us/step - loss: 0.9818 - acc: 0.6507 - val_loss: 1.0998 - val_acc: 0.6108\n",
      "Epoch 52/500\n",
      "9220/9220 [==============================] - 0s 34us/step - loss: 0.9726 - acc: 0.6561 - val_loss: 1.0958 - val_acc: 0.6028\n",
      "Epoch 53/500\n",
      "9220/9220 [==============================] - 0s 32us/step - loss: 0.9688 - acc: 0.6556 - val_loss: 1.0965 - val_acc: 0.6058\n",
      "Epoch 54/500\n",
      "9220/9220 [==============================] - 0s 31us/step - loss: 0.9703 - acc: 0.6569 - val_loss: 1.0957 - val_acc: 0.6078\n",
      "Epoch 55/500\n",
      "9220/9220 [==============================] - 0s 36us/step - loss: 0.9682 - acc: 0.6536 - val_loss: 1.0855 - val_acc: 0.6138\n",
      "Epoch 56/500\n",
      "9220/9220 [==============================] - 0s 32us/step - loss: 0.9627 - acc: 0.6573 - val_loss: 1.0845 - val_acc: 0.6188\n",
      "Epoch 57/500\n",
      "9220/9220 [==============================] - 0s 31us/step - loss: 0.9644 - acc: 0.6601 - val_loss: 1.1033 - val_acc: 0.6048\n",
      "Epoch 58/500\n",
      "9220/9220 [==============================] - 0s 33us/step - loss: 0.9631 - acc: 0.6561 - val_loss: 1.0892 - val_acc: 0.6118\n",
      "Epoch 59/500\n",
      "9220/9220 [==============================] - 0s 31us/step - loss: 0.9590 - acc: 0.6628 - val_loss: 1.0891 - val_acc: 0.6038\n",
      "Epoch 60/500\n"
     ]
    },
    {
     "name": "stdout",
     "output_type": "stream",
     "text": [
      "9220/9220 [==============================] - 0s 34us/step - loss: 0.9601 - acc: 0.6587 - val_loss: 1.0962 - val_acc: 0.6128\n",
      "Epoch 61/500\n",
      "9220/9220 [==============================] - 0s 34us/step - loss: 0.9548 - acc: 0.6621 - val_loss: 1.0842 - val_acc: 0.6078\n",
      "Epoch 62/500\n",
      "9220/9220 [==============================] - 0s 34us/step - loss: 0.9540 - acc: 0.6643 - val_loss: 1.0918 - val_acc: 0.5948\n",
      "Epoch 63/500\n",
      "9220/9220 [==============================] - 0s 32us/step - loss: 0.9532 - acc: 0.6617 - val_loss: 1.0920 - val_acc: 0.6098\n",
      "Epoch 64/500\n",
      "9220/9220 [==============================] - 0s 31us/step - loss: 0.9514 - acc: 0.6628 - val_loss: 1.0916 - val_acc: 0.6048\n",
      "Epoch 65/500\n",
      "9220/9220 [==============================] - 0s 36us/step - loss: 0.9491 - acc: 0.6644 - val_loss: 1.1069 - val_acc: 0.6018\n",
      "Epoch 66/500\n",
      "9220/9220 [==============================] - 0s 32us/step - loss: 0.9497 - acc: 0.6625 - val_loss: 1.0810 - val_acc: 0.6158\n",
      "Epoch 67/500\n",
      "9220/9220 [==============================] - 0s 33us/step - loss: 0.9477 - acc: 0.6672 - val_loss: 1.0813 - val_acc: 0.6158\n",
      "Epoch 68/500\n",
      "9220/9220 [==============================] - 0s 35us/step - loss: 0.9443 - acc: 0.6692 - val_loss: 1.0962 - val_acc: 0.6038\n",
      "Epoch 69/500\n",
      "9220/9220 [==============================] - 0s 32us/step - loss: 0.9430 - acc: 0.6696 - val_loss: 1.0767 - val_acc: 0.6128\n",
      "Epoch 70/500\n",
      "9220/9220 [==============================] - 0s 32us/step - loss: 0.9447 - acc: 0.6656 - val_loss: 1.0880 - val_acc: 0.6158\n",
      "Epoch 71/500\n",
      "9220/9220 [==============================] - 0s 35us/step - loss: 0.9410 - acc: 0.6676 - val_loss: 1.0872 - val_acc: 0.6148\n",
      "Epoch 72/500\n",
      "9220/9220 [==============================] - 0s 33us/step - loss: 0.9434 - acc: 0.6687 - val_loss: 1.0938 - val_acc: 0.6048\n",
      "Epoch 73/500\n",
      "9220/9220 [==============================] - 0s 34us/step - loss: 0.9414 - acc: 0.6688 - val_loss: 1.0788 - val_acc: 0.6178\n",
      "Epoch 74/500\n",
      "9220/9220 [==============================] - 0s 41us/step - loss: 0.9350 - acc: 0.6728 - val_loss: 1.0843 - val_acc: 0.6108\n",
      "Epoch 75/500\n",
      "9220/9220 [==============================] - 0s 37us/step - loss: 0.9336 - acc: 0.6719 - val_loss: 1.0921 - val_acc: 0.6018\n",
      "Epoch 76/500\n",
      "9220/9220 [==============================] - 0s 34us/step - loss: 0.9330 - acc: 0.6721 - val_loss: 1.0850 - val_acc: 0.6108\n",
      "Epoch 77/500\n",
      "9220/9220 [==============================] - 0s 34us/step - loss: 0.9314 - acc: 0.6728 - val_loss: 1.0934 - val_acc: 0.6088\n",
      "Epoch 78/500\n",
      "9220/9220 [==============================] - 0s 38us/step - loss: 0.9262 - acc: 0.6747 - val_loss: 1.0872 - val_acc: 0.6128\n",
      "Epoch 79/500\n",
      "9220/9220 [==============================] - 0s 33us/step - loss: 0.9289 - acc: 0.6739 - val_loss: 1.0804 - val_acc: 0.6228\n",
      "Epoch 80/500\n",
      "9220/9220 [==============================] - 0s 40us/step - loss: 0.9246 - acc: 0.6771 - val_loss: 1.0904 - val_acc: 0.6098\n",
      "Epoch 81/500\n",
      "9220/9220 [==============================] - 0s 33us/step - loss: 0.9283 - acc: 0.6718 - val_loss: 1.1213 - val_acc: 0.5978\n",
      "Epoch 82/500\n",
      "9220/9220 [==============================] - 0s 35us/step - loss: 0.9256 - acc: 0.6734 - val_loss: 1.0935 - val_acc: 0.6108\n",
      "Epoch 83/500\n",
      "9220/9220 [==============================] - 0s 35us/step - loss: 0.9206 - acc: 0.6792 - val_loss: 1.0899 - val_acc: 0.6128\n",
      "Epoch 84/500\n",
      "9220/9220 [==============================] - 0s 34us/step - loss: 0.9195 - acc: 0.6769 - val_loss: 1.0972 - val_acc: 0.6078\n",
      "Epoch 85/500\n",
      "9220/9220 [==============================] - 0s 33us/step - loss: 0.9216 - acc: 0.6787 - val_loss: 1.0914 - val_acc: 0.6128\n",
      "Epoch 86/500\n",
      "9220/9220 [==============================] - 0s 33us/step - loss: 0.9178 - acc: 0.6779 - val_loss: 1.1251 - val_acc: 0.5938\n",
      "Epoch 87/500\n",
      "9220/9220 [==============================] - 0s 38us/step - loss: 0.9179 - acc: 0.6768 - val_loss: 1.0834 - val_acc: 0.6108\n",
      "Epoch 88/500\n",
      "9220/9220 [==============================] - 0s 34us/step - loss: 0.9166 - acc: 0.6787 - val_loss: 1.1128 - val_acc: 0.6018\n",
      "Epoch 89/500\n",
      "9220/9220 [==============================] - 0s 34us/step - loss: 0.9246 - acc: 0.6753 - val_loss: 1.0972 - val_acc: 0.5998\n",
      "Epoch 90/500\n",
      "9220/9220 [==============================] - 0s 39us/step - loss: 0.9124 - acc: 0.6807 - val_loss: 1.0809 - val_acc: 0.6148\n",
      "Epoch 91/500\n",
      "9220/9220 [==============================] - 0s 39us/step - loss: 0.9146 - acc: 0.6792 - val_loss: 1.0942 - val_acc: 0.6058\n",
      "Epoch 92/500\n",
      "9220/9220 [==============================] - 0s 46us/step - loss: 0.9096 - acc: 0.6836 - val_loss: 1.0898 - val_acc: 0.6188\n",
      "Epoch 93/500\n",
      "9220/9220 [==============================] - 0s 36us/step - loss: 0.9133 - acc: 0.6809 - val_loss: 1.0921 - val_acc: 0.6048\n",
      "Epoch 94/500\n",
      "9220/9220 [==============================] - 0s 42us/step - loss: 0.9083 - acc: 0.6846 - val_loss: 1.0820 - val_acc: 0.6178\n",
      "Epoch 95/500\n",
      "9220/9220 [==============================] - 0s 36us/step - loss: 0.9041 - acc: 0.6857 - val_loss: 1.0863 - val_acc: 0.6198\n",
      "Epoch 96/500\n",
      "9220/9220 [==============================] - 0s 35us/step - loss: 0.9054 - acc: 0.6888 - val_loss: 1.1082 - val_acc: 0.5998\n",
      "Epoch 97/500\n",
      "9220/9220 [==============================] - 0s 36us/step - loss: 0.9018 - acc: 0.6852 - val_loss: 1.0949 - val_acc: 0.6048\n",
      "Epoch 98/500\n",
      "9220/9220 [==============================] - 0s 42us/step - loss: 0.9025 - acc: 0.6872 - val_loss: 1.1084 - val_acc: 0.6038\n",
      "Epoch 99/500\n",
      "9220/9220 [==============================] - 0s 36us/step - loss: 0.9012 - acc: 0.6857 - val_loss: 1.0997 - val_acc: 0.6118\n"
     ]
    }
   ],
   "source": [
    "history = model.fit(train_df, to_categorical(train_lab), \n",
    "          validation_data=(valid_df, to_categorical(valid_lab)),\n",
    "          epochs=500, batch_size=64, callbacks=keras_callbacks)"
   ]
  },
  {
   "cell_type": "code",
   "execution_count": 94,
   "metadata": {},
   "outputs": [
    {
     "data": {
      "image/png": "[encoded data removed]",
      "text/plain": [
       "<Figure size 432x288 with 1 Axes>"
      ]
     },
     "metadata": {},
     "output_type": "display_data"
    }
   ],
   "source": [
    "import matplotlib.pyplot as plt\n",
    "plt.plot(history.history['acc'])\n",
    "plt.plot(history.history['val_acc'])\n",
    "plt.title('Model accuracy')\n",
    "plt.ylabel('Accuracy')\n",
    "plt.xlabel('Epoch')\n",
    "plt.legend(['Train', 'Valid'], loc='upper left')\n",
    "plt.show()"
   ]
  },
  {
   "cell_type": "code",
   "execution_count": 95,
   "metadata": {},
   "outputs": [
    {
     "name": "stdout",
     "output_type": "stream",
     "text": [
      "2456/2456 [==============================] - 0s 25us/step\n"
     ]
    },
    {
     "data": {
      "text/plain": [
       "[1.127368462590519, 0.6066775244299675]"
      ]
     },
     "execution_count": 95,
     "metadata": {},
     "output_type": "execute_result"
    }
   ],
   "source": [
    "model.evaluate(test_df, to_categorical(test_lab))"
   ]
  },
  {
   "cell_type": "code",
   "execution_count": 96,
   "metadata": {},
   "outputs": [],
   "source": [
    "dnn_test_probs = model.predict(test_df)\n",
    "dnn_test_preds_num = np.argmax(dnn_test_probs, axis=1)\n",
    "dnn_test_preds = [reverse_id_dict[pred] for pred in dnn_test_preds_num]"
   ]
  },
  {
   "cell_type": "markdown",
   "metadata": {},
   "source": [
    "### Metrics"
   ]
  },
  {
   "cell_type": "code",
   "execution_count": 113,
   "metadata": {},
   "outputs": [],
   "source": [
    "from sklearn.metrics import confusion_matrix, classification_report\n",
    "import seaborn as sns\n",
    "import pandas as pd"
   ]
  },
  {
   "cell_type": "markdown",
   "metadata": {},
   "source": [
    "#### Logistic Regression"
   ]
  },
  {
   "cell_type": "code",
   "execution_count": 128,
   "metadata": {},
   "outputs": [
    {
     "name": "stdout",
     "output_type": "stream",
     "text": [
      "Logistic Regression Classification Report\n",
      "\n",
      "                       precision    recall  f1-score   support\n",
      "\n",
      "        Cell.membrane       0.63      0.67      0.65       224\n",
      "            Cytoplasm       0.52      0.42      0.46       424\n",
      "Endoplasmic.reticulum       0.53      0.51      0.52       162\n",
      "        Extracellular       0.88      0.90      0.89       377\n",
      "      Golgi.apparatus       0.37      0.21      0.27        63\n",
      "     Lysosome/Vacuole       0.30      0.18      0.22        57\n",
      "        Mitochondrion       0.70      0.68      0.69       299\n",
      "              Nucleus       0.66      0.81      0.73       675\n",
      "           Peroxisome       0.43      0.11      0.17        28\n",
      "              Plastid       0.72      0.72      0.72       147\n",
      "\n",
      "            micro avg       0.66      0.66      0.66      2456\n",
      "            macro avg       0.57      0.52      0.53      2456\n",
      "         weighted avg       0.65      0.66      0.65      2456\n",
      "\n"
     ]
    }
   ],
   "source": [
    "print(\"Logistic Regression Classification Report\\n\")\n",
    "print(classification_report(test_labels, logreg_test_preds))"
   ]
  },
  {
   "cell_type": "code",
   "execution_count": 59,
   "metadata": {},
   "outputs": [],
   "source": [
    "logreg_cm = confusion_matrix(test_labels, logreg_test_preds)"
   ]
  },
  {
   "cell_type": "code",
   "execution_count": 116,
   "metadata": {},
   "outputs": [
    {
     "data": {
      "image/png": "[encoded data removed]",
      "text/plain": [
       "<Figure size 720x504 with 2 Axes>"
      ]
     },
     "metadata": {},
     "output_type": "display_data"
    }
   ],
   "source": [
    "df_cm = pd.DataFrame(logreg_cm, index=sorted(id_dict.keys()), columns=sorted(id_dict.keys()))\n",
    "plt.figure(figsize = (10,7))\n",
    "fig = sns.heatmap(df_cm, annot=True, cmap='Blues', fmt='g')\n",
    "plt.xlabel(\"True Labels\")\n",
    "plt.ylabel(\"Predicted Labels\")\n",
    "plt.title(\"Logistic Regression Confusion Matrix\")\n",
    "plt.show(fig)"
   ]
  },
  {
   "cell_type": "markdown",
   "metadata": {},
   "source": [
    "#### Keras DNN"
   ]
  },
  {
   "cell_type": "code",
   "execution_count": 127,
   "metadata": {},
   "outputs": [
    {
     "name": "stdout",
     "output_type": "stream",
     "text": [
      "Keras DNN Classification Report\n",
      "\n",
      "                       precision    recall  f1-score   support\n",
      "\n",
      "        Cell.membrane       0.48      0.75      0.58       224\n",
      "            Cytoplasm       0.53      0.43      0.48       424\n",
      "Endoplasmic.reticulum       0.35      0.23      0.28       162\n",
      "        Extracellular       0.81      0.91      0.86       377\n",
      "      Golgi.apparatus       0.00      0.00      0.00        63\n",
      "     Lysosome/Vacuole       0.00      0.00      0.00        57\n",
      "        Mitochondrion       0.51      0.75      0.60       299\n",
      "              Nucleus       0.68      0.79      0.73       675\n",
      "           Peroxisome       0.00      0.00      0.00        28\n",
      "              Plastid       0.00      0.00      0.00       147\n",
      "\n",
      "            micro avg       0.61      0.61      0.61      2456\n",
      "            macro avg       0.34      0.39      0.35      2456\n",
      "         weighted avg       0.53      0.61      0.56      2456\n",
      "\n"
     ]
    },
    {
     "name": "stderr",
     "output_type": "stream",
     "text": [
      "/Library/Frameworks/Python.framework/Versions/3.6/lib/python3.6/site-packages/sklearn/metrics/classification.py:1143: UndefinedMetricWarning: Precision and F-score are ill-defined and being set to 0.0 in labels with no predicted samples.\n",
      "  'precision', 'predicted', average, warn_for)\n"
     ]
    }
   ],
   "source": [
    "print(\"Keras DNN Classification Report\\n\")\n",
    "print(classification_report(test_labels, dnn_test_preds))"
   ]
  },
  {
   "cell_type": "code",
   "execution_count": 118,
   "metadata": {},
   "outputs": [],
   "source": [
    "dnn_cm = confusion_matrix(test_labels, dnn_test_preds)"
   ]
  },
  {
   "cell_type": "code",
   "execution_count": 125,
   "metadata": {},
   "outputs": [
    {
     "data": {
      "image/png": "[encoded data removed]",
      "text/plain": [
       "<Figure size 720x504 with 2 Axes>"
      ]
     },
     "metadata": {},
     "output_type": "display_data"
    }
   ],
   "source": [
    "df_cm = pd.DataFrame(dnn_cm, index=sorted(id_dict.keys()), columns=sorted(id_dict.keys()))\n",
    "plt.figure(figsize = (10,7))\n",
    "fig = sns.heatmap(df_cm, annot=True, cmap='Blues', fmt='g')\n",
    "plt.xlabel(\"True Labels\")\n",
    "plt.ylabel(\"Predicted Labels\")\n",
    "plt.title(\"Keras DNN Confusion Matrix\")\n",
    "plt.show(fig)"
   ]
  },
  {
   "cell_type": "code",
   "execution_count": 124,
   "metadata": {},
   "outputs": [
    {
     "data": {
      "text/plain": [
       "dict_keys(['Cell.membrane', 'Cytoplasm', 'Endoplasmic.reticulum', 'Golgi.apparatus', 'Lysosome/Vacuole', 'Mitochondrion', 'Nucleus', 'Peroxisome', 'Plastid', 'Extracellular'])"
      ]
     },
     "execution_count": 124,
     "metadata": {},
     "output_type": "execute_result"
    }
   ],
   "source": [
    "df_cm"
   ]
  },
  {
   "cell_type": "code",
   "execution_count": null,
   "metadata": {},
   "outputs": [],
   "source": []
  }
 ],
 "metadata": {
  "kernelspec": {
   "display_name": "tape",
   "language": "python",
   "name": "tape"
  },
  "language_info": {
   "codemirror_mode": {
    "name": "ipython",
    "version": 3
   },
   "file_extension": ".py",
   "mimetype": "text/x-python",
   "name": "python",
   "nbconvert_exporter": "python",
   "pygments_lexer": "ipython3",
   "version": "3.6.4"
  }
 },
 "nbformat": 4,
 "nbformat_minor": 2
}
