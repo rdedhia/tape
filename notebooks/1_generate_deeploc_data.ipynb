{
 "cells": [
  {
   "cell_type": "markdown",
   "metadata": {},
   "source": [
    "# Generating DeepLoc Train/Valid/Test Data\n",
    "\n",
    "In this notebook, we parse through the original DeepLoc dataset to generate the train/test splits as well as a validation set from the test set. You can specify the max sequence length for your output data, which in our case we used 6000 due to memory issues on EC2 when training on a GPU. \n",
    "\n",
    "Paper: https://academic.oup.com/bioinformatics/article/33/21/3387/3931857\n",
    "\n",
    "Dataset: http://www.cbs.dtu.dk/services/DeepLoc-1.0/deeploc_data.fasta\n",
    "\n",
    "Additionally, we remove the Cytoplasm/Nucleus class as done in the original DeepLoc paper to mimic their data cleaning process."
   ]
  },
  {
   "cell_type": "code",
   "execution_count": 25,
   "metadata": {},
   "outputs": [],
   "source": [
    "import numpy as np\n",
    "import pandas as pd\n",
    "from sklearn.model_selection import train_test_split\n",
    "\n",
    "from Bio import SeqIO\n",
    "from Bio.Alphabet import IUPAC\n",
    "from Bio.SeqRecord import SeqRecord\n",
    "from Bio.Seq import Seq\n",
    "\n",
    "import json\n",
    "\n",
    "np.random.seed(42)"
   ]
  },
  {
   "cell_type": "markdown",
   "metadata": {},
   "source": [
    "First, we will download the deeploc dataset to the /data folder within the TAPE project"
   ]
  },
  {
   "cell_type": "code",
   "execution_count": 26,
   "metadata": {},
   "outputs": [
    {
     "name": "stdout",
     "output_type": "stream",
     "text": [
      "  % Total    % Received % Xferd  Average Speed   Time    Time     Time  Current\n",
      "                                 Dload  Upload   Total   Spent    Left  Speed\n",
      "100 7470k  100 7470k    0     0  1254k      0  0:00:05  0:00:05 --:--:-- 1782k:--  0:05:36 22703\n"
     ]
    }
   ],
   "source": [
    "!curl -o ../data/deeploc_data.fasta http://www.cbs.dtu.dk/services/DeepLoc-1.0/deeploc_data.fasta"
   ]
  },
  {
   "cell_type": "markdown",
   "metadata": {},
   "source": [
    "Then, we will define a max sequence length and iterate through the DeepLoc dataset to output a filtered fasta file. Next, we generate train/test DataFrames in order to write out the train/test/valid split fasta files.\n",
    "\n",
    "Some sequences in the DeepLoc dataset have a Cytoplasm-Nucleus label for the subcellular location. Per the DeepLoc dataset, we are excluding these labels since they do not clearly fall into the Cytoplasm or Nucleus classes."
   ]
  },
  {
   "cell_type": "code",
   "execution_count": 37,
   "metadata": {},
   "outputs": [],
   "source": [
    "# Lists to store train and test sets. The original dataset indicates whether \n",
    "# each sequence belongs in the train or test set in the record description\n",
    "train_list = []\n",
    "test_list = []\n",
    "\n",
    "# Create a mapping from protein sequence ID to the q10 subcellular location labels\n",
    "# and the q2 membrane bound vs water soluble labels\n",
    "seq_id_to_q10 = {}\n",
    "seq_id_to_q2 = {}\n",
    "\n",
    "# Define max sequence length to filter data. Larger sequences take more memory to encode.\n",
    "MAX_SEQ_LENGTH = 6000\n",
    "\n",
    "with open(f\"../data/deeploc_data_{MAX_SEQ_LENGTH}.fasta\", 'w') as handle:\n",
    "    # Iterate through the original dataset to parse for ID, sequence, class label, and train/test flag\n",
    "    for record in SeqIO.parse(\"../data/deeploc_data.fasta\", \"fasta\"):\n",
    "        description = record.description\n",
    "        seq = record.seq\n",
    "        desc_split = description.split(\" \")\n",
    "        ID = desc_split[0]\n",
    "        label = desc_split[1]\n",
    "        q2_label = label[-1] # q2 membrane bound vs water soluble label\n",
    "        q10_label = label[:len(label)-2] # q10 subcellular location label\n",
    "        \n",
    "        # Ignore ambiguous cytoplasm-nucleus labels and sequences that are too long to embed\n",
    "        if q10_label == \"Cytoplasm-Nucleus\" or len(seq) > MAX_SEQ_LENGTH:\n",
    "            continue\n",
    "        \n",
    "        seq_id_to_q2[ID] = q2_label\n",
    "        seq_id_to_q10[ID] = q10_label\n",
    "        # Sequences in test set has an additional field in the description\n",
    "        if len(desc_split) == 3:\n",
    "            test_list.append((ID, q10_label, seq))\n",
    "        else:\n",
    "            train_list.append((ID, q10_label, seq))\n",
    "        SeqIO.write(record, handle, \"fasta\")\n",
    "\n",
    "# Create pd DataFrames for the train and test sequences\n",
    "train_df = pd.DataFrame(train_list)\n",
    "test_df = pd.DataFrame(test_list)\n",
    "\n",
    "# Generate json label files for visualizating the embeddings with PCA\n",
    "with open('../data/deeploc_labels_q2.json', 'w') as handle:\n",
    "    handle.write(json.dumps(seq_id_to_q2))\n",
    "\n",
    "with open('../data/deeploc_labels_q10.json', 'w') as handle:\n",
    "    handle.write(json.dumps(seq_id_to_q10))"
   ]
  },
  {
   "cell_type": "code",
   "execution_count": 38,
   "metadata": {},
   "outputs": [
    {
     "name": "stdout",
     "output_type": "stream",
     "text": [
      "(11083, 3)\n",
      "(2773, 3)\n"
     ]
    }
   ],
   "source": [
    "print(train_df.shape)\n",
    "print(test_df.shape)"
   ]
  },
  {
   "cell_type": "markdown",
   "metadata": {},
   "source": [
    "Inspect the DataFrame\n",
    "* Column 0 is a unique identifier for each sequence (sequence ID)\n",
    "* Column 1 shows the labels for the q10 and q2 tasks, separated by a dash -\n",
    "* Column 2 is a tuple of the amino acids in each sequence"
   ]
  },
  {
   "cell_type": "code",
   "execution_count": 39,
   "metadata": {},
   "outputs": [
    {
     "data": {
      "text/html": [
       "<div>\n",
       "<style scoped>\n",
       "    .dataframe tbody tr th:only-of-type {\n",
       "        vertical-align: middle;\n",
       "    }\n",
       "\n",
       "    .dataframe tbody tr th {\n",
       "        vertical-align: top;\n",
       "    }\n",
       "\n",
       "    .dataframe thead th {\n",
       "        text-align: right;\n",
       "    }\n",
       "</style>\n",
       "<table border=\"1\" class=\"dataframe\">\n",
       "  <thead>\n",
       "    <tr style=\"text-align: right;\">\n",
       "      <th></th>\n",
       "      <th>0</th>\n",
       "      <th>1</th>\n",
       "      <th>2</th>\n",
       "    </tr>\n",
       "  </thead>\n",
       "  <tbody>\n",
       "    <tr>\n",
       "      <th>0</th>\n",
       "      <td>Q5I0E9</td>\n",
       "      <td>Cell.membrane</td>\n",
       "      <td>(M, E, V, L, E, E, P, A, P, G, P, G, G, A, D, ...</td>\n",
       "    </tr>\n",
       "    <tr>\n",
       "      <th>1</th>\n",
       "      <td>P63033</td>\n",
       "      <td>Cell.membrane</td>\n",
       "      <td>(M, M, K, T, L, S, S, G, N, C, T, L, N, V, P, ...</td>\n",
       "    </tr>\n",
       "    <tr>\n",
       "      <th>2</th>\n",
       "      <td>Q9NR71</td>\n",
       "      <td>Cell.membrane</td>\n",
       "      <td>(M, A, K, R, T, F, S, N, L, E, T, F, L, I, F, ...</td>\n",
       "    </tr>\n",
       "    <tr>\n",
       "      <th>3</th>\n",
       "      <td>Q86XT9</td>\n",
       "      <td>Cell.membrane</td>\n",
       "      <td>(M, G, N, C, Q, A, G, H, N, L, H, L, C, L, A, ...</td>\n",
       "    </tr>\n",
       "    <tr>\n",
       "      <th>4</th>\n",
       "      <td>A2CI98</td>\n",
       "      <td>Cell.membrane</td>\n",
       "      <td>(M, D, P, S, K, Q, G, T, L, N, R, V, E, N, S, ...</td>\n",
       "    </tr>\n",
       "  </tbody>\n",
       "</table>\n",
       "</div>"
      ],
      "text/plain": [
       "        0              1                                                  2\n",
       "0  Q5I0E9  Cell.membrane  (M, E, V, L, E, E, P, A, P, G, P, G, G, A, D, ...\n",
       "1  P63033  Cell.membrane  (M, M, K, T, L, S, S, G, N, C, T, L, N, V, P, ...\n",
       "2  Q9NR71  Cell.membrane  (M, A, K, R, T, F, S, N, L, E, T, F, L, I, F, ...\n",
       "3  Q86XT9  Cell.membrane  (M, G, N, C, Q, A, G, H, N, L, H, L, C, L, A, ...\n",
       "4  A2CI98  Cell.membrane  (M, D, P, S, K, Q, G, T, L, N, R, V, E, N, S, ..."
      ]
     },
     "execution_count": 39,
     "metadata": {},
     "output_type": "execute_result"
    }
   ],
   "source": [
    "train_df.head()"
   ]
  },
  {
   "cell_type": "markdown",
   "metadata": {},
   "source": [
    "Looking at the distribution of the output classes for subcellular location (q10), you can see that the dataset is imbalanced. Almost 50% of sequences are either in the Nucleus or Cytoplasm classes."
   ]
  },
  {
   "cell_type": "code",
   "execution_count": 40,
   "metadata": {},
   "outputs": [
    {
     "data": {
      "text/plain": [
       "Nucleus                  3235\n",
       "Cytoplasm                2033\n",
       "Extracellular            1579\n",
       "Mitochondrion            1208\n",
       "Cell.membrane            1067\n",
       "Endoplasmic.reticulum     689\n",
       "Plastid                   605\n",
       "Golgi.apparatus           286\n",
       "Lysosome/Vacuole          257\n",
       "Peroxisome                124\n",
       "Name: 1, dtype: int64"
      ]
     },
     "execution_count": 40,
     "metadata": {},
     "output_type": "execute_result"
    }
   ],
   "source": [
    "train_df[1].value_counts()"
   ]
  },
  {
   "cell_type": "code",
   "execution_count": 41,
   "metadata": {},
   "outputs": [
    {
     "data": {
      "text/plain": [
       "Nucleus                  808\n",
       "Cytoplasm                508\n",
       "Extracellular            393\n",
       "Mitochondrion            302\n",
       "Cell.membrane            273\n",
       "Endoplasmic.reticulum    173\n",
       "Plastid                  152\n",
       "Golgi.apparatus           70\n",
       "Lysosome/Vacuole          64\n",
       "Peroxisome                30\n",
       "Name: 1, dtype: int64"
      ]
     },
     "execution_count": 41,
     "metadata": {},
     "output_type": "execute_result"
    }
   ],
   "source": [
    "test_df[1].value_counts()"
   ]
  },
  {
   "cell_type": "markdown",
   "metadata": {},
   "source": [
    "Create map from subcellular location label to a numerical ID to use for stratifying the train set into \n",
    "train and validation, with a 90/10 train/valid split"
   ]
  },
  {
   "cell_type": "code",
   "execution_count": 42,
   "metadata": {},
   "outputs": [],
   "source": [
    "id_map = {}\n",
    "for i, l in enumerate(train_df[1].unique()):\n",
    "    id_map[l] = i\n",
    "\n",
    "train_labels = []\n",
    "for label in train_df[1]:\n",
    "    train_labels.append(id_map[label])"
   ]
  },
  {
   "cell_type": "code",
   "execution_count": 43,
   "metadata": {},
   "outputs": [
    {
     "data": {
      "text/plain": [
       "{'Cell.membrane': 0,\n",
       " 'Cytoplasm': 1,\n",
       " 'Endoplasmic.reticulum': 2,\n",
       " 'Golgi.apparatus': 3,\n",
       " 'Lysosome/Vacuole': 4,\n",
       " 'Mitochondrion': 5,\n",
       " 'Nucleus': 6,\n",
       " 'Peroxisome': 7,\n",
       " 'Plastid': 8,\n",
       " 'Extracellular': 9}"
      ]
     },
     "execution_count": 43,
     "metadata": {},
     "output_type": "execute_result"
    }
   ],
   "source": [
    "id_map"
   ]
  },
  {
   "cell_type": "code",
   "execution_count": 44,
   "metadata": {},
   "outputs": [],
   "source": [
    "train, validation = train_test_split(train_df, test_size=0.1, stratify=train_labels)"
   ]
  },
  {
   "cell_type": "code",
   "execution_count": 45,
   "metadata": {},
   "outputs": [
    {
     "name": "stdout",
     "output_type": "stream",
     "text": [
      "(9974, 3)\n",
      "(1109, 3)\n"
     ]
    }
   ],
   "source": [
    "print(train.shape)\n",
    "print(validation.shape)"
   ]
  },
  {
   "cell_type": "markdown",
   "metadata": {},
   "source": [
    "Write out FASTA files containing the sequences and subcellular location labels for the newly separated train, valid, and test splits"
   ]
  },
  {
   "cell_type": "code",
   "execution_count": 46,
   "metadata": {},
   "outputs": [],
   "source": [
    "with open(f\"../data/deeploc_train_{MAX_SEQ_LENGTH}.fasta\", 'w') as output_train_handle:\n",
    "    for index, row in train.iterrows():\n",
    "        ID = row[0]\n",
    "        label = row[1]\n",
    "        seq = row[2]\n",
    "        rec = SeqRecord(seq, id=ID, description=str(id_map[label]))\n",
    "        SeqIO.write(rec, output_train_handle, \"fasta\")\n",
    "    \n",
    "with open(f\"../data/deeploc_valid_{MAX_SEQ_LENGTH}.fasta\", 'w') as output_valid_handle:\n",
    "    for index, row in validation.iterrows():\n",
    "        ID = row[0]\n",
    "        label = row[1]\n",
    "        seq = row[2]\n",
    "        rec = SeqRecord(seq, id=ID, description=str(id_map[label]))\n",
    "        SeqIO.write(rec, output_valid_handle, \"fasta\")\n",
    "\n",
    "with open(f\"../data/deeploc_test_{MAX_SEQ_LENGTH}.fasta\", 'w') as output_test_handle:\n",
    "    for index, row in test_df.iterrows():\n",
    "        ID = row[0]\n",
    "        label = row[1]\n",
    "        seq = row[2]\n",
    "        rec = SeqRecord(seq, id=ID, description=str(id_map[label]))\n",
    "        SeqIO.write(rec, output_test_handle, \"fasta\")"
   ]
  },
  {
   "cell_type": "code",
   "execution_count": null,
   "metadata": {},
   "outputs": [],
   "source": []
  }
 ],
 "metadata": {
  "kernelspec": {
   "display_name": "tape",
   "language": "python",
   "name": "tape"
  },
  "language_info": {
   "codemirror_mode": {
    "name": "ipython",
    "version": 3
   },
   "file_extension": ".py",
   "mimetype": "text/x-python",
   "name": "python",
   "nbconvert_exporter": "python",
   "pygments_lexer": "ipython3",
   "version": "3.6.4"
  }
 },
 "nbformat": 4,
 "nbformat_minor": 2
}
