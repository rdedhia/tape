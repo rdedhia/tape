{
 "cells": [
  {
   "cell_type": "code",
   "execution_count": 23,
   "metadata": {},
   "outputs": [],
   "source": [
    "from Bio import SeqIO\n",
    "import pandas as pd\n",
    "from Bio.Alphabet import IUPAC\n",
    "from Bio.SeqRecord import SeqRecord\n",
    "from Bio.Seq import Seq"
   ]
  },
  {
   "cell_type": "code",
   "execution_count": 50,
   "metadata": {},
   "outputs": [],
   "source": [
    "train_list = []\n",
    "test_list = []\n",
    "\n",
    "max_seq_length = 1024\n",
    "\n",
    "output_full_handle = open(\"deeploc_data_1024.fasta\", 'w')\n",
    "for record in SeqIO.parse(\"data/deeploc_data.fasta\", \"fasta\"):\n",
    "    description = record.description\n",
    "    seq = record.seq\n",
    "    desc_split = description.split(\" \")\n",
    "    if len(desc_split) == 3:\n",
    "        ID = desc_split[0]\n",
    "        label = desc_split[1]\n",
    "        label = label[:len(label)-2]\n",
    "        test_list.append((ID, label, seq))\n",
    "    \n",
    "    else:\n",
    "        ID = desc_split[0]\n",
    "        label = desc_split[1]\n",
    "        label = label[:len(label)-2]\n",
    "        if label == \"Cytoplasm-Nucleus\":\n",
    "            label = \"Cytoplasm\"\n",
    "        train_list.append((ID, label, seq))\n",
    "    if len(seq) <= max_seq_length:\n",
    "        SeqIO.write(record, output_full_handle, \"fasta\")\n",
    "\n",
    "        \n",
    "train_df = pd.DataFrame(train_list)\n",
    "test_df = pd.DataFrame(test_list)\n",
    "\n",
    "\n"
   ]
  },
  {
   "cell_type": "code",
   "execution_count": 53,
   "metadata": {},
   "outputs": [
    {
     "name": "stdout",
     "output_type": "stream",
     "text": [
      "{'Cell.membrane': 0, 'Cytoplasm': 1, 'Endoplasmic.reticulum': 2, 'Golgi.apparatus': 3, 'Lysosome/Vacuole': 4, 'Mitochondrion': 5, 'Nucleus': 6, 'Peroxisome': 7, 'Plastid': 8, 'Extracellular': 9}\n"
     ]
    }
   ],
   "source": [
    "id_map = {}\n",
    "for i, l in enumerate(test_df[1].unique()):\n",
    "    id_map[l] = i\n",
    "id_map\n",
    "print(id_map)"
   ]
  },
  {
   "cell_type": "code",
   "execution_count": 57,
   "metadata": {},
   "outputs": [
    {
     "name": "stdout",
     "output_type": "stream",
     "text": [
      "LABEL COUNTS FOR TRAIN SET\n",
      "Cell.membrane: 1067\n",
      "Cytoplasm: 2180\n",
      "Endoplasmic.reticulum: 689\n",
      "Golgi.apparatus: 286\n",
      "Lysosome/Vacuole: 257\n",
      "Mitochondrion: 1208\n",
      "Nucleus: 3235\n",
      "Peroxisome: 124\n",
      "Plastid: 605\n",
      "Extracellular: 1580\n",
      "\n",
      "\n",
      "LABEL COUNTS FOR test SET\n",
      "Cell.membrane: 273\n",
      "Cytoplasm: 508\n",
      "Endoplasmic.reticulum: 173\n",
      "Golgi.apparatus: 70\n",
      "Lysosome/Vacuole: 64\n",
      "Mitochondrion: 302\n",
      "Nucleus: 808\n",
      "Peroxisome: 30\n",
      "Plastid: 152\n",
      "Extracellular: 393\n"
     ]
    }
   ],
   "source": [
    "print(\"LABEL COUNTS FOR TRAIN SET\")\n",
    "for k in id_map.keys():\n",
    "    print(\"{}: {}\".format(k,train_df[train_df[1]==k][0].count()))\n",
    "    \n",
    "print(\"\\n\\nLABEL COUNTS FOR TEST SET\")\n",
    "for k in id_map.keys():\n",
    "    print(\"{}: {}\".format(k,test_df[test_df[1]==k][0].count()))"
   ]
  },
  {
   "cell_type": "code",
   "execution_count": 58,
   "metadata": {},
   "outputs": [],
   "source": [
    "from sklearn.model_selection import train_test_split\n",
    "\n",
    "train, validation = train_test_split(train_df, test_size=0.1, random_state=42)\n"
   ]
  },
  {
   "cell_type": "code",
   "execution_count": 59,
   "metadata": {},
   "outputs": [],
   "source": [
    "output_train_handle = open(\"data/deeploc_train.fasta\", 'w')\n",
    "for index, row in train.iterrows():\n",
    "    ID = row[0]\n",
    "    label = row[1]\n",
    "    seq = row[2]\n",
    "    rec = SeqRecord(seq, id=ID, description=str(id_map[label]))\n",
    "    if len(seq) <= max_seq_length:\n",
    "        SeqIO.write(rec, output_train_handle, \"fasta\")\n",
    "    \n",
    "output_valid_handle = open(\"data/deeploc_valid.fasta\", 'w')\n",
    "for index, row in validation.iterrows():\n",
    "    ID = row[0]\n",
    "    label = row[1]\n",
    "    seq = row[2]\n",
    "    rec = SeqRecord(seq, id=ID, description=str(id_map[label]))\n",
    "    if len(seq) <= max_seq_length:\n",
    "        SeqIO.write(rec, output_valid_handle, \"fasta\")\n",
    "\n",
    "output_test_handle = open(\"data/deeploc_test.fasta\", 'w')\n",
    "for index, row in test_df.iterrows():\n",
    "    ID = row[0]\n",
    "    label = row[1]\n",
    "    seq = row[2]\n",
    "    rec = SeqRecord(seq, id=ID, description=str(id_map[label]))\n",
    "    if len(seq) <= max_seq_length:\n",
    "        SeqIO.write(rec, output_test_handle, \"fasta\")\n",
    "    \n",
    "    \n",
    "\n",
    "    "
   ]
  },
  {
   "cell_type": "code",
   "execution_count": null,
   "metadata": {},
   "outputs": [],
   "source": []
  },
  {
   "cell_type": "code",
   "execution_count": null,
   "metadata": {},
   "outputs": [],
   "source": [
    "\n"
   ]
  },
  {
   "cell_type": "code",
   "execution_count": null,
   "metadata": {},
   "outputs": [],
   "source": []
  },
  {
   "cell_type": "code",
   "execution_count": null,
   "metadata": {},
   "outputs": [],
   "source": []
  },
  {
   "cell_type": "code",
   "execution_count": null,
   "metadata": {},
   "outputs": [],
   "source": []
  }
 ],
 "metadata": {
  "kernelspec": {
   "display_name": "Python 3",
   "language": "python",
   "name": "python3"
  },
  "language_info": {
   "codemirror_mode": {
    "name": "ipython",
    "version": 3
   },
   "file_extension": ".py",
   "mimetype": "text/x-python",
   "name": "python",
   "nbconvert_exporter": "python",
   "pygments_lexer": "ipython3",
   "version": "3.7.4"
  }
 },
 "nbformat": 4,
 "nbformat_minor": 2
}
