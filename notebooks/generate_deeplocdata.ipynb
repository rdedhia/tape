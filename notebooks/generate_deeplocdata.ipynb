{
 "cells": [
  {
   "cell_type": "code",
   "execution_count": 12,
   "metadata": {},
   "outputs": [],
   "source": [
    "from Bio import SeqIO\n",
    "import pandas as pd\n",
    "from Bio.Alphabet import IUPAC\n",
    "from Bio.SeqRecord import SeqRecord\n",
    "from Bio.Seq import Seq"
   ]
  },
  {
   "cell_type": "code",
   "execution_count": 13,
   "metadata": {},
   "outputs": [],
   "source": [
    "train_list = []\n",
    "test_list = []\n",
    "\n",
    "max_seq_length = 1024\n",
    "\n",
    "output_full_handle = open(\"deeploc_data_1024.fasta\", 'w')\n",
    "for record in SeqIO.parse(\"data/deeploc_data.fasta\", \"fasta\"):\n",
    "    description = record.description\n",
    "    seq = record.seq\n",
    "    desc_split = description.split(\" \")\n",
    "    if len(desc_split) == 3:\n",
    "        ID = desc_split[0]\n",
    "        label = desc_split[1]\n",
    "        label = label[:len(label)-2]\n",
    "        train_list.append((ID, label, seq))\n",
    "    \n",
    "    else:\n",
    "        ID = desc_split[0]\n",
    "        label = desc_split[1]\n",
    "        label = label[:len(label)-2]\n",
    "        train_list.append((ID, label, seq))\n",
    "    if len(seq) <= max_seq_length:\n",
    "        SeqIO.write(record, output_full_handle, \"fasta\")\n",
    "\n",
    "        \n",
    "train_df = pd.DataFrame(train_list)\n",
    "test_df = pd.DataFrame(test_list)\n",
    "\n",
    "\n"
   ]
  },
  {
   "cell_type": "code",
   "execution_count": 14,
   "metadata": {},
   "outputs": [
    {
     "name": "stdout",
     "output_type": "stream",
     "text": [
      "{'Cell.membrane': 0, 'Cytoplasm-Nucleus': 1, 'Cytoplasm': 2, 'Endoplasmic.reticulum': 3, 'Golgi.apparatus': 4, 'Lysosome/Vacuole': 5, 'Mitochondrion': 6, 'Nucleus': 7, 'Peroxisome': 8, 'Plastid': 9, 'Extracellular': 10}\n"
     ]
    }
   ],
   "source": [
    "id_map = {}\n",
    "for i, l in enumerate(train_df[1].unique()):\n",
    "    id_map[l] = i\n",
    "print(id_map)"
   ]
  },
  {
   "cell_type": "code",
   "execution_count": null,
   "metadata": {},
   "outputs": [],
   "source": []
  },
  {
   "cell_type": "code",
   "execution_count": 15,
   "metadata": {},
   "outputs": [],
   "source": [
    "from sklearn.model_selection import train_test_split\n",
    "\n",
    "train, validation = train_test_split(train_df, test_size=0.1, random_state=42)\n"
   ]
  },
  {
   "cell_type": "code",
   "execution_count": 16,
   "metadata": {},
   "outputs": [],
   "source": [
    "output_train_handle = open(\"data/deeploc_train.fasta\", 'w')\n",
    "for index, row in train.iloc[6142:].iterrows():\n",
    "    ID = row[0]\n",
    "    label = row[1]\n",
    "    seq = row[2]\n",
    "    rec = SeqRecord(seq, id=ID, description=str(id_map[label]))\n",
    "    if len(seq) <= max_seq_length:\n",
    "        SeqIO.write(rec, output_train_handle, \"fasta\")\n",
    "    \n",
    "output_valid_handle = open(\"data/deeploc_valid.fasta\", 'w')\n",
    "for index, row in validation.iterrows():\n",
    "    ID = row[0]\n",
    "    label = row[1]\n",
    "    seq = row[2]\n",
    "    rec = SeqRecord(seq, id=ID, description=str(id_map[label]))\n",
    "    if len(seq) <= max_seq_length:\n",
    "        SeqIO.write(rec, output_valid_handle, \"fasta\")\n",
    "\n",
    "output_test_handle = open(\"data/deeploc_test.fasta\", 'w')\n",
    "for index, row in test_df.iterrows():\n",
    "    ID = row[0]\n",
    "    label = row[1]\n",
    "    seq = row[2]\n",
    "    rec = SeqRecord(seq, id=ID, description=str(id_map[label]))\n",
    "    if len(seq) <= max_seq_length:\n",
    "        SeqIO.write(rec, output_test_handle, \"fasta\")\n",
    "    \n",
    "    \n",
    "\n",
    "    "
   ]
  },
  {
   "cell_type": "code",
   "execution_count": null,
   "metadata": {},
   "outputs": [],
   "source": []
  },
  {
   "cell_type": "code",
   "execution_count": null,
   "metadata": {},
   "outputs": [],
   "source": [
    "\n"
   ]
  },
  {
   "cell_type": "code",
   "execution_count": null,
   "metadata": {},
   "outputs": [],
   "source": []
  },
  {
   "cell_type": "code",
   "execution_count": null,
   "metadata": {},
   "outputs": [],
   "source": []
  },
  {
   "cell_type": "code",
   "execution_count": null,
   "metadata": {},
   "outputs": [],
   "source": []
  }
 ],
 "metadata": {
  "kernelspec": {
   "display_name": "Python 3",
   "language": "python",
   "name": "python3"
  }
 },
 "nbformat": 4,
 "nbformat_minor": 2
}
