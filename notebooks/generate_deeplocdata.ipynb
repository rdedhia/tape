{
 "cells": [
  {
   "cell_type": "markdown",
   "metadata": {},
   "source": [
    "# Generating DeepLoc Train/Valid/Test Data\n",
    "\n",
    "In this notebook, we parse through the original DeepLoc dataset to generate the train/test splits as well as a validation set from the test set. You can specify the max sequence length for your output data, which in our case we used 6000 due to memory issues on EC2 when training on a GPU. \n",
    "\n",
    "Additionally, we remove the Cytoplasm/Nucleus class as done in the original DeepLoc paper to mimic their data cleaning process. "
   ]
  },
  {
   "cell_type": "code",
   "execution_count": 1,
   "metadata": {},
   "outputs": [],
   "source": [
    "import numpy as np\n",
    "import pandas as pd\n",
    "from sklearn.model_selection import train_test_split\n",
    "\n",
    "from Bio import SeqIO\n",
    "from Bio.Alphabet import IUPAC\n",
    "from Bio.SeqRecord import SeqRecord\n",
    "from Bio.Seq import Seq"
   ]
  },
  {
   "cell_type": "code",
   "execution_count": 2,
   "metadata": {},
   "outputs": [],
   "source": [
    "np.random.seed(42)"
   ]
  },
  {
   "cell_type": "code",
   "execution_count": 3,
   "metadata": {},
   "outputs": [],
   "source": [
    "train_list = []\n",
    "test_list = []\n",
    "\n",
    "max_seq_length = 6000\n",
    "\n",
    "\n",
    "with open(\"../data/deeploc_data_{}.fasta\".format(max_seq_length), 'w') as output_full_handle:\n",
    "    for record in SeqIO.parse(\"../data/deeploc_data.fasta\", \"fasta\"):\n",
    "        description = record.description\n",
    "        seq = record.seq\n",
    "        desc_split = description.split(\" \")\n",
    "        if len(desc_split) == 3:\n",
    "            ID = desc_split[0]\n",
    "            label = desc_split[1]\n",
    "            label = label[:len(label)-2]\n",
    "            test_list.append((ID, label, seq))\n",
    "        else:\n",
    "            ID = desc_split[0]\n",
    "            label = desc_split[1]\n",
    "            label = label[:len(label)-2]\n",
    "            train_list.append((ID, label, seq))\n",
    "        if len(seq) <= max_seq_length:\n",
    "            SeqIO.write(record, output_full_handle, \"fasta\")\n",
    "        \n",
    "train_df = pd.DataFrame(train_list)\n",
    "test_df = pd.DataFrame(test_list)"
   ]
  },
  {
   "cell_type": "code",
   "execution_count": 4,
   "metadata": {},
   "outputs": [
    {
     "name": "stdout",
     "output_type": "stream",
     "text": [
      "(11231, 3)\n",
      "(2773, 3)\n"
     ]
    }
   ],
   "source": [
    "print(train_df.shape)\n",
    "print(test_df.shape)"
   ]
  },
  {
   "cell_type": "code",
   "execution_count": 5,
   "metadata": {},
   "outputs": [
    {
     "data": {
      "text/html": [
       "<div>\n",
       "<style scoped>\n",
       "    .dataframe tbody tr th:only-of-type {\n",
       "        vertical-align: middle;\n",
       "    }\n",
       "\n",
       "    .dataframe tbody tr th {\n",
       "        vertical-align: top;\n",
       "    }\n",
       "\n",
       "    .dataframe thead th {\n",
       "        text-align: right;\n",
       "    }\n",
       "</style>\n",
       "<table border=\"1\" class=\"dataframe\">\n",
       "  <thead>\n",
       "    <tr style=\"text-align: right;\">\n",
       "      <th></th>\n",
       "      <th>0</th>\n",
       "      <th>1</th>\n",
       "      <th>2</th>\n",
       "    </tr>\n",
       "  </thead>\n",
       "  <tbody>\n",
       "    <tr>\n",
       "      <th>0</th>\n",
       "      <td>Q5I0E9</td>\n",
       "      <td>Cell.membrane</td>\n",
       "      <td>(M, E, V, L, E, E, P, A, P, G, P, G, G, A, D, ...</td>\n",
       "    </tr>\n",
       "    <tr>\n",
       "      <th>1</th>\n",
       "      <td>P63033</td>\n",
       "      <td>Cell.membrane</td>\n",
       "      <td>(M, M, K, T, L, S, S, G, N, C, T, L, N, V, P, ...</td>\n",
       "    </tr>\n",
       "    <tr>\n",
       "      <th>2</th>\n",
       "      <td>Q9NR71</td>\n",
       "      <td>Cell.membrane</td>\n",
       "      <td>(M, A, K, R, T, F, S, N, L, E, T, F, L, I, F, ...</td>\n",
       "    </tr>\n",
       "    <tr>\n",
       "      <th>3</th>\n",
       "      <td>Q86XT9</td>\n",
       "      <td>Cell.membrane</td>\n",
       "      <td>(M, G, N, C, Q, A, G, H, N, L, H, L, C, L, A, ...</td>\n",
       "    </tr>\n",
       "    <tr>\n",
       "      <th>4</th>\n",
       "      <td>A2CI98</td>\n",
       "      <td>Cell.membrane</td>\n",
       "      <td>(M, D, P, S, K, Q, G, T, L, N, R, V, E, N, S, ...</td>\n",
       "    </tr>\n",
       "  </tbody>\n",
       "</table>\n",
       "</div>"
      ],
      "text/plain": [
       "        0              1                                                  2\n",
       "0  Q5I0E9  Cell.membrane  (M, E, V, L, E, E, P, A, P, G, P, G, G, A, D, ...\n",
       "1  P63033  Cell.membrane  (M, M, K, T, L, S, S, G, N, C, T, L, N, V, P, ...\n",
       "2  Q9NR71  Cell.membrane  (M, A, K, R, T, F, S, N, L, E, T, F, L, I, F, ...\n",
       "3  Q86XT9  Cell.membrane  (M, G, N, C, Q, A, G, H, N, L, H, L, C, L, A, ...\n",
       "4  A2CI98  Cell.membrane  (M, D, P, S, K, Q, G, T, L, N, R, V, E, N, S, ..."
      ]
     },
     "execution_count": 5,
     "metadata": {},
     "output_type": "execute_result"
    }
   ],
   "source": [
    "train_df.head()"
   ]
  },
  {
   "cell_type": "code",
   "execution_count": 6,
   "metadata": {},
   "outputs": [
    {
     "data": {
      "text/plain": [
       "Nucleus                  3235\n",
       "Cytoplasm                2034\n",
       "Extracellular            1580\n",
       "Mitochondrion            1208\n",
       "Cell.membrane            1067\n",
       "Endoplasmic.reticulum     689\n",
       "Plastid                   605\n",
       "Golgi.apparatus           286\n",
       "Lysosome/Vacuole          257\n",
       "Cytoplasm-Nucleus         146\n",
       "Peroxisome                124\n",
       "Name: 1, dtype: int64"
      ]
     },
     "execution_count": 6,
     "metadata": {},
     "output_type": "execute_result"
    }
   ],
   "source": [
    "train_df[1].value_counts()"
   ]
  },
  {
   "cell_type": "code",
   "execution_count": 7,
   "metadata": {},
   "outputs": [
    {
     "data": {
      "text/plain": [
       "Nucleus                  808\n",
       "Cytoplasm                508\n",
       "Extracellular            393\n",
       "Mitochondrion            302\n",
       "Cell.membrane            273\n",
       "Endoplasmic.reticulum    173\n",
       "Plastid                  152\n",
       "Golgi.apparatus           70\n",
       "Lysosome/Vacuole          64\n",
       "Peroxisome                30\n",
       "Name: 1, dtype: int64"
      ]
     },
     "execution_count": 7,
     "metadata": {},
     "output_type": "execute_result"
    }
   ],
   "source": [
    "test_df[1].value_counts()"
   ]
  },
  {
   "cell_type": "code",
   "execution_count": 8,
   "metadata": {},
   "outputs": [],
   "source": [
    "# Remove ambiguous Cytoplasm-Nucleus class\n",
    "train_df = train_df[train_df[1] != 'Cytoplasm-Nucleus']"
   ]
  },
  {
   "cell_type": "code",
   "execution_count": 9,
   "metadata": {},
   "outputs": [
    {
     "name": "stdout",
     "output_type": "stream",
     "text": [
      "(11085, 3)\n"
     ]
    },
    {
     "data": {
      "text/plain": [
       "Nucleus                  3235\n",
       "Cytoplasm                2034\n",
       "Extracellular            1580\n",
       "Mitochondrion            1208\n",
       "Cell.membrane            1067\n",
       "Endoplasmic.reticulum     689\n",
       "Plastid                   605\n",
       "Golgi.apparatus           286\n",
       "Lysosome/Vacuole          257\n",
       "Peroxisome                124\n",
       "Name: 1, dtype: int64"
      ]
     },
     "execution_count": 9,
     "metadata": {},
     "output_type": "execute_result"
    }
   ],
   "source": [
    "print(train_df.shape)\n",
    "train_df[1].value_counts()"
   ]
  },
  {
   "cell_type": "code",
   "execution_count": 10,
   "metadata": {},
   "outputs": [
    {
     "name": "stdout",
     "output_type": "stream",
     "text": [
      "{'Cell.membrane': 0, 'Cytoplasm': 1, 'Endoplasmic.reticulum': 2, 'Golgi.apparatus': 3, 'Lysosome/Vacuole': 4, 'Mitochondrion': 5, 'Nucleus': 6, 'Peroxisome': 7, 'Plastid': 8, 'Extracellular': 9}\n"
     ]
    }
   ],
   "source": [
    "id_map = {}\n",
    "for i, l in enumerate(train_df[1].unique()):\n",
    "    id_map[l] = i\n",
    "print(id_map)"
   ]
  },
  {
   "cell_type": "code",
   "execution_count": 11,
   "metadata": {},
   "outputs": [],
   "source": [
    "train_labels = []\n",
    "for label in train_df[1]:\n",
    "    train_labels.append(id_map[label])"
   ]
  },
  {
   "cell_type": "code",
   "execution_count": 12,
   "metadata": {},
   "outputs": [
    {
     "name": "stdout",
     "output_type": "stream",
     "text": [
      "[0, 0, 0, 0, 0, 0, 0, 0, 0, 0]\n",
      "[9, 9, 9, 9, 9, 9, 9, 9, 9, 9]\n"
     ]
    }
   ],
   "source": [
    "print(train_labels[:10])\n",
    "print(train_labels[-10:])"
   ]
  },
  {
   "cell_type": "code",
   "execution_count": 13,
   "metadata": {},
   "outputs": [],
   "source": [
    "train, validation = train_test_split(train_df, test_size=0.1, stratify=train_labels)"
   ]
  },
  {
   "cell_type": "code",
   "execution_count": 14,
   "metadata": {},
   "outputs": [
    {
     "name": "stdout",
     "output_type": "stream",
     "text": [
      "(9976, 3)\n",
      "(1109, 3)\n"
     ]
    }
   ],
   "source": [
    "print(train.shape)\n",
    "print(validation.shape)"
   ]
  },
  {
   "cell_type": "code",
   "execution_count": 15,
   "metadata": {},
   "outputs": [
    {
     "data": {
      "text/plain": [
       "Nucleus                  2911\n",
       "Cytoplasm                1831\n",
       "Extracellular            1422\n",
       "Mitochondrion            1087\n",
       "Cell.membrane             960\n",
       "Endoplasmic.reticulum     620\n",
       "Plastid                   545\n",
       "Golgi.apparatus           257\n",
       "Lysosome/Vacuole          231\n",
       "Peroxisome                112\n",
       "Name: 1, dtype: int64"
      ]
     },
     "execution_count": 15,
     "metadata": {},
     "output_type": "execute_result"
    }
   ],
   "source": [
    "train[1].value_counts()"
   ]
  },
  {
   "cell_type": "code",
   "execution_count": 16,
   "metadata": {},
   "outputs": [
    {
     "data": {
      "text/plain": [
       "Nucleus                  324\n",
       "Cytoplasm                203\n",
       "Extracellular            158\n",
       "Mitochondrion            121\n",
       "Cell.membrane            107\n",
       "Endoplasmic.reticulum     69\n",
       "Plastid                   60\n",
       "Golgi.apparatus           29\n",
       "Lysosome/Vacuole          26\n",
       "Peroxisome                12\n",
       "Name: 1, dtype: int64"
      ]
     },
     "execution_count": 16,
     "metadata": {},
     "output_type": "execute_result"
    }
   ],
   "source": [
    "validation[1].value_counts()"
   ]
  },
  {
   "cell_type": "code",
   "execution_count": 20,
   "metadata": {},
   "outputs": [],
   "source": [
    "with open(\"../data/deeploc_train.fasta\", 'w') as output_train_handle:\n",
    "    for index, row in train.iterrows():\n",
    "        ID = row[0]\n",
    "        label = row[1]\n",
    "        seq = row[2]\n",
    "        rec = SeqRecord(seq, id=ID, description=str(id_map[label]))\n",
    "        if len(seq) <= max_seq_length:\n",
    "            SeqIO.write(rec, output_train_handle, \"fasta\")\n",
    "    \n",
    "with open(\"../data/deeploc_valid.fasta\", 'w') as output_valid_handle:\n",
    "    for index, row in validation.iterrows():\n",
    "        ID = row[0]\n",
    "        label = row[1]\n",
    "        seq = row[2]\n",
    "        rec = SeqRecord(seq, id=ID, description=str(id_map[label]))\n",
    "        if len(seq) <= max_seq_length:\n",
    "            SeqIO.write(rec, output_valid_handle, \"fasta\")\n",
    "\n",
    "with open(\"../data/deeploc_test.fasta\", 'w') as output_test_handle:\n",
    "    for index, row in test_df.iterrows():\n",
    "        ID = row[0]\n",
    "        label = row[1]\n",
    "        seq = row[2]\n",
    "        rec = SeqRecord(seq, id=ID, description=str(id_map[label]))\n",
    "        if len(seq) <= max_seq_length:\n",
    "            SeqIO.write(rec, output_test_handle, \"fasta\")"
   ]
  },
  {
   "cell_type": "code",
   "execution_count": null,
   "metadata": {},
   "outputs": [],
   "source": []
  }
 ],
 "metadata": {
  "kernelspec": {
   "display_name": "Python 3",
   "language": "python",
   "name": "python3"
  },
  "language_info": {
   "codemirror_mode": {
    "name": "ipython",
    "version": 3
   },
   "file_extension": ".py",
   "mimetype": "text/x-python",
   "name": "python",
   "nbconvert_exporter": "python",
   "pygments_lexer": "ipython3",
   "version": "3.7.4"
  }
 },
 "nbformat": 4,
 "nbformat_minor": 2
}
