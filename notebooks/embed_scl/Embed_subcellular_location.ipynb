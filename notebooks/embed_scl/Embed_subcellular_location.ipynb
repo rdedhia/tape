{
 "cells": [
  {
   "cell_type": "code",
   "execution_count": 3,
   "metadata": {},
   "outputs": [],
   "source": [
    "from Bio import SeqIO\n",
    "import pandas as pd\n",
    "import torch\n",
    "from tape import ProteinBertModel, TAPETokenizer\n",
    "from Bio.Alphabet import IUPAC\n",
    "from Bio.SeqRecord import SeqRecord\n",
    "from Bio.Seq import Seq\n",
    "import torch\n",
    "from tape import ProteinBertModel, TAPETokenizer\n",
    "model = ProteinBertModel.from_pretrained('bert-base')\n",
    "tokenizer = TAPETokenizer(vocab='iupac')\n",
    "\n",
    "lookup_d = {}\n",
    "for record in SeqIO.parse(\"deeploc_data.fasta\", \"fasta\"):\n",
    "    description = record.description\n",
    "    seq = record.seq\n",
    "    desc_split = description.split(\" \")\n",
    "    if len(desc_split) == 3:\n",
    "        ID = desc_split[0]\n",
    "        label = desc_split[1]\n",
    "        label = label[:len(label)-2]\n",
    "        lookup_d[ID] = label\n",
    "    \n",
    "    else:\n",
    "        ID = desc_split[0]\n",
    "        label = desc_split[1]\n",
    "        label = label[:len(label)-2]\n",
    "        lookup_d[ID] = label\n"
   ]
  },
  {
   "cell_type": "code",
   "execution_count": 4,
   "metadata": {},
   "outputs": [],
   "source": [
    "import numpy as np\n",
    "import pandas as pd\n",
    "import json\n",
    "arrays = np.load('output_full.npz', allow_pickle=True)\n",
    "\n",
    "l = list(arrays.keys()) "
   ]
  },
  {
   "cell_type": "code",
   "execution_count": 5,
   "metadata": {},
   "outputs": [],
   "source": [
    "deeploc_df = pd.DataFrame()\n",
    "label_df = pd.DataFrame(columns=['ID', 'label'])\n",
    "for a in l:\n",
    "    d = arrays[a].item()['avg']\n",
    "    df = pd.DataFrame(d)\n",
    "    label_df = label_df.append({\"ID\":a, \"label\": lookup_d[a]}, ignore_index=True)\n",
    "    deeploc_df = deeploc_df.append(df.transpose(), ignore_index=True)"
   ]
  },
  {
   "cell_type": "code",
   "execution_count": null,
   "metadata": {},
   "outputs": [],
   "source": []
  },
  {
   "cell_type": "code",
   "execution_count": 8,
   "metadata": {},
   "outputs": [],
   "source": [
    "from sklearn.decomposition import PCA\n",
    "\n",
    "from sklearn.manifold import TSNE\n",
    "# tsne = TSNE(n_components=3)\n",
    "pca = PCA(n_components=3)\n",
    "\n",
    "principalComponents = pca.fit_transform(deeploc_df)\n",
    "# tsneComponents = tsne.fit_transform(deeploc_df)"
   ]
  },
  {
   "cell_type": "code",
   "execution_count": 9,
   "metadata": {},
   "outputs": [],
   "source": [
    "principal_df = pd.DataFrame(data = principalComponents\n",
    "             , columns = ['pc1', 'pc2', 'pc3'])\n",
    "\n",
    "# tsne_df = pd.DataFrame(data=tsneComponents, columns=['tsne1', 'tsne2', 'tsne3'])"
   ]
  },
  {
   "cell_type": "code",
   "execution_count": 10,
   "metadata": {},
   "outputs": [],
   "source": [
    "principal_df['ID'] = label_df['ID']\n",
    "principal_df['label'] = label_df['label']\n",
    "\n",
    "# tsne_df['ID'] = label_df['ID']\n",
    "# tsne_df['label'] = label_df['label']\n"
   ]
  },
  {
   "cell_type": "code",
   "execution_count": 11,
   "metadata": {},
   "outputs": [
    {
     "data": {
      "text/html": [
       "<div>\n",
       "<style scoped>\n",
       "    .dataframe tbody tr th:only-of-type {\n",
       "        vertical-align: middle;\n",
       "    }\n",
       "\n",
       "    .dataframe tbody tr th {\n",
       "        vertical-align: top;\n",
       "    }\n",
       "\n",
       "    .dataframe thead th {\n",
       "        text-align: right;\n",
       "    }\n",
       "</style>\n",
       "<table border=\"1\" class=\"dataframe\">\n",
       "  <thead>\n",
       "    <tr style=\"text-align: right;\">\n",
       "      <th></th>\n",
       "      <th>pc1</th>\n",
       "      <th>pc2</th>\n",
       "      <th>pc3</th>\n",
       "      <th>ID</th>\n",
       "      <th>label</th>\n",
       "    </tr>\n",
       "  </thead>\n",
       "  <tbody>\n",
       "    <tr>\n",
       "      <td>0</td>\n",
       "      <td>-3.785695</td>\n",
       "      <td>3.183419</td>\n",
       "      <td>3.369541</td>\n",
       "      <td>P83585</td>\n",
       "      <td>Plastid</td>\n",
       "    </tr>\n",
       "    <tr>\n",
       "      <td>1</td>\n",
       "      <td>-3.962483</td>\n",
       "      <td>3.689283</td>\n",
       "      <td>4.857982</td>\n",
       "      <td>P12100</td>\n",
       "      <td>Extracellular</td>\n",
       "    </tr>\n",
       "    <tr>\n",
       "      <td>2</td>\n",
       "      <td>-2.999231</td>\n",
       "      <td>-0.460258</td>\n",
       "      <td>1.221900</td>\n",
       "      <td>Q8GUU3</td>\n",
       "      <td>Nucleus</td>\n",
       "    </tr>\n",
       "    <tr>\n",
       "      <td>3</td>\n",
       "      <td>-3.201531</td>\n",
       "      <td>1.562028</td>\n",
       "      <td>3.228625</td>\n",
       "      <td>P25379</td>\n",
       "      <td>Mitochondrion</td>\n",
       "    </tr>\n",
       "    <tr>\n",
       "      <td>4</td>\n",
       "      <td>-3.467626</td>\n",
       "      <td>-0.842392</td>\n",
       "      <td>2.771395</td>\n",
       "      <td>P19882</td>\n",
       "      <td>Mitochondrion</td>\n",
       "    </tr>\n",
       "    <tr>\n",
       "      <td>...</td>\n",
       "      <td>...</td>\n",
       "      <td>...</td>\n",
       "      <td>...</td>\n",
       "      <td>...</td>\n",
       "      <td>...</td>\n",
       "    </tr>\n",
       "    <tr>\n",
       "      <td>6189</td>\n",
       "      <td>0.125758</td>\n",
       "      <td>-0.585828</td>\n",
       "      <td>-1.191705</td>\n",
       "      <td>Q9FMD7</td>\n",
       "      <td>Cell.membrane</td>\n",
       "    </tr>\n",
       "    <tr>\n",
       "      <td>6190</td>\n",
       "      <td>2.077721</td>\n",
       "      <td>-2.494235</td>\n",
       "      <td>0.908155</td>\n",
       "      <td>Q9LDN0</td>\n",
       "      <td>Cytoplasm</td>\n",
       "    </tr>\n",
       "    <tr>\n",
       "      <td>6191</td>\n",
       "      <td>5.739468</td>\n",
       "      <td>2.096906</td>\n",
       "      <td>0.103102</td>\n",
       "      <td>Q8N7E2</td>\n",
       "      <td>Cytoplasm</td>\n",
       "    </tr>\n",
       "    <tr>\n",
       "      <td>6192</td>\n",
       "      <td>-2.710245</td>\n",
       "      <td>1.903203</td>\n",
       "      <td>1.856477</td>\n",
       "      <td>P85971</td>\n",
       "      <td>Cytoplasm</td>\n",
       "    </tr>\n",
       "    <tr>\n",
       "      <td>6193</td>\n",
       "      <td>-2.597038</td>\n",
       "      <td>-0.924762</td>\n",
       "      <td>-1.963548</td>\n",
       "      <td>Q9Y7Y0</td>\n",
       "      <td>Endoplasmic.reticulum</td>\n",
       "    </tr>\n",
       "  </tbody>\n",
       "</table>\n",
       "<p>6194 rows × 5 columns</p>\n",
       "</div>"
      ],
      "text/plain": [
       "           pc1       pc2       pc3      ID                  label\n",
       "0    -3.785695  3.183419  3.369541  P83585                Plastid\n",
       "1    -3.962483  3.689283  4.857982  P12100          Extracellular\n",
       "2    -2.999231 -0.460258  1.221900  Q8GUU3                Nucleus\n",
       "3    -3.201531  1.562028  3.228625  P25379          Mitochondrion\n",
       "4    -3.467626 -0.842392  2.771395  P19882          Mitochondrion\n",
       "...        ...       ...       ...     ...                    ...\n",
       "6189  0.125758 -0.585828 -1.191705  Q9FMD7          Cell.membrane\n",
       "6190  2.077721 -2.494235  0.908155  Q9LDN0              Cytoplasm\n",
       "6191  5.739468  2.096906  0.103102  Q8N7E2              Cytoplasm\n",
       "6192 -2.710245  1.903203  1.856477  P85971              Cytoplasm\n",
       "6193 -2.597038 -0.924762 -1.963548  Q9Y7Y0  Endoplasmic.reticulum\n",
       "\n",
       "[6194 rows x 5 columns]"
      ]
     },
     "execution_count": 11,
     "metadata": {},
     "output_type": "execute_result"
    }
   ],
   "source": [
    "principal_df"
   ]
  },
  {
   "cell_type": "code",
   "execution_count": 12,
   "metadata": {},
   "outputs": [
    {
     "ename": "NameError",
     "evalue": "name 'px' is not defined",
     "output_type": "error",
     "traceback": [
      "\u001b[0;31m---------------------------------------------------------------------------\u001b[0m",
      "\u001b[0;31mNameError\u001b[0m                                 Traceback (most recent call last)",
      "\u001b[0;32m<ipython-input-12-85e4092255f4>\u001b[0m in \u001b[0;36m<module>\u001b[0;34m()\u001b[0m\n\u001b[1;32m      6\u001b[0m \u001b[0max\u001b[0m\u001b[0;34m.\u001b[0m\u001b[0mset_title\u001b[0m\u001b[0;34m(\u001b[0m\u001b[0;34m'2 component PCA'\u001b[0m\u001b[0;34m,\u001b[0m \u001b[0mfontsize\u001b[0m \u001b[0;34m=\u001b[0m \u001b[0;36m20\u001b[0m\u001b[0;34m)\u001b[0m\u001b[0;34m\u001b[0m\u001b[0;34m\u001b[0m\u001b[0m\n\u001b[1;32m      7\u001b[0m \u001b[0mtargets\u001b[0m \u001b[0;34m=\u001b[0m \u001b[0mlist\u001b[0m\u001b[0;34m(\u001b[0m\u001b[0mlabel_df\u001b[0m\u001b[0;34m[\u001b[0m\u001b[0;34m'label'\u001b[0m\u001b[0;34m]\u001b[0m\u001b[0;34m.\u001b[0m\u001b[0munique\u001b[0m\u001b[0;34m(\u001b[0m\u001b[0;34m)\u001b[0m\u001b[0;34m)\u001b[0m\u001b[0;34m\u001b[0m\u001b[0;34m\u001b[0m\u001b[0m\n\u001b[0;32m----> 8\u001b[0;31m \u001b[0mcolors\u001b[0m \u001b[0;34m=\u001b[0m\u001b[0mpx\u001b[0m\u001b[0;34m.\u001b[0m\u001b[0mcolors\u001b[0m\u001b[0;34m.\u001b[0m\u001b[0mqualitative\u001b[0m\u001b[0;34m.\u001b[0m\u001b[0mG10\u001b[0m\u001b[0;34m\u001b[0m\u001b[0;34m\u001b[0m\u001b[0m\n\u001b[0m\u001b[1;32m      9\u001b[0m \u001b[0;32mfor\u001b[0m \u001b[0mtarget\u001b[0m\u001b[0;34m,\u001b[0m \u001b[0mcolor\u001b[0m \u001b[0;32min\u001b[0m \u001b[0mzip\u001b[0m\u001b[0;34m(\u001b[0m\u001b[0mtargets\u001b[0m\u001b[0;34m,\u001b[0m\u001b[0mcolors\u001b[0m\u001b[0;34m)\u001b[0m\u001b[0;34m:\u001b[0m\u001b[0;34m\u001b[0m\u001b[0;34m\u001b[0m\u001b[0m\n\u001b[1;32m     10\u001b[0m     \u001b[0mindicesToKeep\u001b[0m \u001b[0;34m=\u001b[0m \u001b[0mprincipal_df\u001b[0m\u001b[0;34m[\u001b[0m\u001b[0;34m'label'\u001b[0m\u001b[0;34m]\u001b[0m \u001b[0;34m==\u001b[0m \u001b[0mtarget\u001b[0m\u001b[0;34m\u001b[0m\u001b[0;34m\u001b[0m\u001b[0m\n",
      "\u001b[0;31mNameError\u001b[0m: name 'px' is not defined"
     ]
    }
   ],
   "source": [
    "import matplotlib.pyplot as plt\n",
    "fig = plt.figure(figsize = (8,8))\n",
    "ax = fig.add_subplot(1,1,1) \n",
    "ax.set_xlabel('Principal Component 1', fontsize = 15)\n",
    "ax.set_ylabel('Principal Component 2', fontsize = 15)\n",
    "ax.set_title('2 component PCA', fontsize = 20)\n",
    "targets = list(label_df['label'].unique())\n",
    "colors =px.colors.qualitative.G10\n",
    "for target, color in zip(targets,colors):\n",
    "    indicesToKeep = principal_df['label'] == target\n",
    "    ax.scatter(principal_df.loc[indicesToKeep, 'pc1']\n",
    "               , principal_df.loc[indicesToKeep, 'pc2']\n",
    "               , c = color\n",
    "               , s = 50)\n",
    "ax.legend(targets)\n",
    "ax.grid()\n",
    "plt.show()"
   ]
  },
  {
   "cell_type": "code",
   "execution_count": null,
   "metadata": {},
   "outputs": [],
   "source": [
    "import plotly.graph_objects as go\n",
    "import seaborn as sns"
   ]
  },
  {
   "cell_type": "code",
   "execution_count": null,
   "metadata": {},
   "outputs": [],
   "source": [
    "import plotly.express as px\n",
    "plt.figure(figsize=(25, 25))\n",
    "fig = px.scatter(principal_df, x='pc1', y='pc2',\n",
    "              color='label', color_discrete_sequence=px.colors.qualitative.G10)\n",
    "fig.show()"
   ]
  },
  {
   "cell_type": "code",
   "execution_count": null,
   "metadata": {
    "scrolled": false
   },
   "outputs": [],
   "source": [
    "import plotly.express as px\n",
    "plt.figure(figsize=(1800,1800))\n",
    "fig = px.scatter_3d(principal_df, x='pc1', y='pc2', z='pc3',\n",
    "              color='label', color_discrete_sequence=px.colors.qualitative.G10)\n",
    "fig.show()"
   ]
  },
  {
   "cell_type": "code",
   "execution_count": null,
   "metadata": {},
   "outputs": [],
   "source": [
    "import matplotlib.pyplot as plt\n",
    "fig = plt.figure(figsize = (8,8))\n",
    "ax = fig.add_subplot(1,1,1) \n",
    "ax.set_xlabel('Principal Component 1', fontsize = 15)\n",
    "ax.set_ylabel('Principal Component 2', fontsize = 15)\n",
    "ax.set_title('2 component PCA', fontsize = 20)\n",
    "targets = list(label_df['label'].unique())\n",
    "print(len(targets))\n",
    "colors = ['r', 'g', 'b', 'c', 'm', 'y', 'k', '0.25', '0.5', '0.75', '0.9']\n",
    "for target, color in zip(targets,colors):\n",
    "    indicesToKeep = tsne_df['label'] == target\n",
    "    ax.scatter(tsne_df.loc[indicesToKeep, 'tsne1']\n",
    "               , tsne_df.loc[indicesToKeep, 'tsne2']\n",
    "               , c = color\n",
    "               , s = 50)\n",
    "ax.legend(targets)\n",
    "ax.grid()"
   ]
  },
  {
   "cell_type": "code",
   "execution_count": null,
   "metadata": {},
   "outputs": [],
   "source": [
    "import plotly.express as px\n",
    "plt.figure(figsize=(25, 25))\n",
    "fig = px.scatter_3d(tsne_df, x='tsne1', y='tsne2', z='tsne3',\n",
    "              color='label', color_discrete_sequence=px.colors.qualitative.G10)\n",
    "fig.show()"
   ]
  },
  {
   "cell_type": "code",
   "execution_count": null,
   "metadata": {},
   "outputs": [],
   "source": [
    "2"
   ]
  }
 ],
 "metadata": {
  "kernelspec": {
   "display_name": "Python 3",
   "language": "python",
   "name": "python3"
  },
  "language_info": {
   "codemirror_mode": {
    "name": "ipython",
    "version": 3
   },
   "file_extension": ".py",
   "mimetype": "text/x-python",
   "name": "python",
   "nbconvert_exporter": "python",
   "pygments_lexer": "ipython3",
   "version": "3.7.4"
  }
 },
 "nbformat": 4,
 "nbformat_minor": 2
}
