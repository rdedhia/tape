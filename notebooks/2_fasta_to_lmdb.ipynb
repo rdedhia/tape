{
 "cells": [
  {
   "cell_type": "markdown",
   "metadata": {},
   "source": [
    "# Fasta to LMDB\n",
    "\n",
    "This notebook provides a simple utility to convert from a `fasta` file to `lmdb` (lightning memory-mapped database), which provides high performance reads and writes for training a model compared to loading data from a `fasta` file\n",
    "\n",
    "Specifically, we run this notebook for the three `fasta` files created in notebook 1, for all sequences with a sequence length < 6000.\n",
    "\n",
    "This notebook is necessary to run the TAPE models on subcellular location, which is shown in notebook 3 on Google colab."
   ]
  },
  {
   "cell_type": "code",
   "execution_count": 31,
   "metadata": {},
   "outputs": [],
   "source": [
    "from collections import defaultdict\n",
    "from pathlib import Path\n",
    "import pickle\n",
    "import os\n",
    "import sys\n",
    "\n",
    "from Bio import SeqIO\n",
    "import lmdb"
   ]
  },
  {
   "cell_type": "code",
   "execution_count": 32,
   "metadata": {},
   "outputs": [],
   "source": [
    "FASTA_TRAIN = list()\n",
    "FASTA_VALID = list()\n",
    "FASTA_TEST = list()"
   ]
  },
  {
   "cell_type": "code",
   "execution_count": 33,
   "metadata": {},
   "outputs": [],
   "source": [
    "# Function to read and parse a fasta file and extract the sequence ID, label, and sequence\n",
    "def read_fasta(fasta_path, fasta_list):\n",
    "    train_file = f'../{fasta_path}'\n",
    "    for sequence in SeqIO.parse(str(train_file), 'fasta'):\n",
    "        id = sequence.id\n",
    "        label = sequence.description.split()[1]\n",
    "        seq = str(sequence.seq)\n",
    "        fasta_list.append({\n",
    "            'id': id,\n",
    "            'label': label,\n",
    "            'primary': seq\n",
    "        })"
   ]
  },
  {
   "cell_type": "code",
   "execution_count": 34,
   "metadata": {},
   "outputs": [],
   "source": [
    "# Function to write a key/value pair to a local LMDB database\n",
    "def write_record_to_lmdb(db, key, value):\n",
    "    \"\"\"\n",
    "    Write (key,value) to db\n",
    "    \"\"\"\n",
    "    success = False\n",
    "    while not success:\n",
    "        txn = db.begin(write=True)\n",
    "        try:\n",
    "            txn.put(key, value)\n",
    "            txn.commit()\n",
    "            success = True\n",
    "        except lmdb.MapFullError:\n",
    "            txn.abort()\n",
    "            # double the map_size\n",
    "            curr_limit = db.info()['map_size']\n",
    "            new_limit = curr_limit * 2\n",
    "            print(f'Doubling LMDB map size to {new_limit}')\n",
    "            db.set_mapsize(new_limit)"
   ]
  },
  {
   "cell_type": "code",
   "execution_count": 35,
   "metadata": {},
   "outputs": [],
   "source": [
    "# Given the sequence ID, label, and sequence for each protein, write the records to an LMDB file\n",
    "def write_sc_lmdb(split, fasta_list):\n",
    "    map_size = sys.getsizeof(pickle.dumps(fasta_list)) * 10\n",
    "    env = lmdb.open((f'../data/deeploc/deeploc_{split}.lmdb'), map_size=map_size)\n",
    "    for i in range(len(fasta_list)):\n",
    "        write_record_to_lmdb(env, str(i).encode(), pickle.dumps(fasta_list[i]))\n",
    "    write_record_to_lmdb(env, b'num_examples', pickle.dumps(len(fasta_list)))"
   ]
  },
  {
   "cell_type": "code",
   "execution_count": 36,
   "metadata": {},
   "outputs": [],
   "source": [
    "# Utility function to read sequences from an LMDB file to verify that the files were converted correctly\n",
    "def read_sc_lmdb(split, verbose_flag=False):\n",
    "    env = lmdb.open(f'../data/deeploc/deeploc_{split}.lmdb')\n",
    "    with env.begin(write=False) as txn:\n",
    "        num_examples = pickle.loads(txn.get(b'num_examples'))\n",
    "        print(f'{split} has num_examples={num_examples}')\n",
    "\n",
    "    if verbose_flag:\n",
    "        label_counts = defaultdict(int)\n",
    "        with env.begin(write=False) as txn:\n",
    "            for index in range(num_examples):\n",
    "                item = pickle.loads(txn.get(str(index).encode()))\n",
    "                if 'id' not in item:\n",
    "                    item['id'] = str(index)\n",
    "                label_counts[item['label']] += 1\n",
    "\n",
    "        print(label_counts)"
   ]
  },
  {
   "cell_type": "code",
   "execution_count": 37,
   "metadata": {},
   "outputs": [
    {
     "name": "stdout",
     "output_type": "stream",
     "text": [
      "train has num_examples=9974\n",
      "defaultdict(<class 'int'>, {'1': 1830, '8': 545, '5': 1087, '6': 2911, '9': 1421, '0': 960, '3': 257, '2': 620, '7': 112, '4': 231})\n",
      "valid has num_examples=1109\n",
      "defaultdict(<class 'int'>, {'6': 324, '0': 107, '9': 158, '8': 60, '5': 121, '2': 69, '1': 203, '7': 12, '4': 26, '3': 29})\n",
      "test has num_examples=2773\n",
      "defaultdict(<class 'int'>, {'0': 273, '1': 508, '2': 173, '3': 70, '4': 64, '5': 302, '6': 808, '7': 30, '8': 152, '9': 393})\n"
     ]
    }
   ],
   "source": [
    "# Create LMDB files for train/valid/test\n",
    "MAX_SEQ_LENGTH = 6000\n",
    "\n",
    "# Train\n",
    "read_fasta(f'data/deeploc_train_{MAX_SEQ_LENGTH}.fasta', FASTA_TRAIN)\n",
    "write_sc_lmdb('train', FASTA_TRAIN)\n",
    "read_sc_lmdb('train', True)\n",
    "\n",
    "# Validation\n",
    "read_fasta(f'data/deeploc_valid_{MAX_SEQ_LENGTH}.fasta', FASTA_VALID)\n",
    "write_sc_lmdb('valid', FASTA_VALID)\n",
    "read_sc_lmdb('valid', True)\n",
    "\n",
    "# Test\n",
    "read_fasta(f'data/deeploc_test_{MAX_SEQ_LENGTH}.fasta', FASTA_TEST)\n",
    "write_sc_lmdb('test', FASTA_TEST)\n",
    "read_sc_lmdb('test', True)"
   ]
  },
  {
   "cell_type": "code",
   "execution_count": null,
   "metadata": {},
   "outputs": [],
   "source": []
  }
 ],
 "metadata": {
  "kernelspec": {
   "display_name": "tape",
   "language": "python",
   "name": "tape"
  },
  "language_info": {
   "codemirror_mode": {
    "name": "ipython",
    "version": 3
   },
   "file_extension": ".py",
   "mimetype": "text/x-python",
   "name": "python",
   "nbconvert_exporter": "python",
   "pygments_lexer": "ipython3",
   "version": "3.6.4"
  }
 },
 "nbformat": 4,
 "nbformat_minor": 2
}
